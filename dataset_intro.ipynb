{
 "cells": [
  {
   "cell_type": "markdown",
   "metadata": {
    "id": "jJjnhOLDmjH2"
   },
   "source": [
    "# Dataset Introduction - the Project Knowledge Graph\n",
    "\n",
    "Ruijie Wang, Pascal Severin Andermatt, Rosni Vasu | 25-09-2023  \n",
    "Matthias Baumgartner, Luca Rossetto, Cristina Sarasua | Dataset Construction"
   ]
  },
  {
   "cell_type": "markdown",
   "metadata": {
    "id": "SNQW7-KG3igF"
   },
   "source": [
    "## 1. Overview"
   ]
  },
  {
   "cell_type": "markdown",
   "metadata": {
    "id": "Ba8LaniAmqNd"
   },
   "source": [
    "* The knowledge graph is\n",
    "    * mainly about **movies**,\n",
    "    * derived from **[Wikidata](https://www.wikidata.org/wiki/Wikidata:Main_Page)**,\n",
    "    * **directed** and **connected**.\n",
    "\n",
    "\n",
    "* Entities (movies, people, etc.)\n",
    "    * common properties \n",
    "        * **labels** (rdfs:label)\n",
    "        * **types** (wd:P31)\n",
    "        * **descriptions** (schema:description)\n",
    "    * namespace:\n",
    "        * **wikidata_entity**(http://www.wikidata.org/entity/);\n",
    "    \n",
    "    \n",
    "* Predicates\n",
    "    * common properties\n",
    "        * **labels** (rdfs:label)\n",
    "        * **descriptions** (schema:description)\n",
    "    * namespaces: \n",
    "        * **wikidata_property**(http://www.wikidata.org/prop/direct/)\n",
    "        * **schema.org**(http://schema.org/)\n",
    "        * **ddis.ch**(http://ddis.ch/atai/)\n",
    "        * **rdfs**(http://www.w3.org/2000/01/rdf-schema#)\n",
    "    \n",
    "    \n",
    "* Literal types in the graph (for some entities):\n",
    "    * entity/predicate labels\n",
    "    * descriptions\n",
    "    * [IMDb](https://www.imdb.com/) ratings\n",
    "    * box office values\n",
    "    * publication dates\n",
    "    * WikiCommons image URLs\n",
    "    * user-defined tags\n",
    "    \n",
    "    \n",
    "* Linked external datasets (for some entities):\n",
    "    * movie plot descriptions from [MPST](https://www.kaggle.com/cryptexcode/mpst-movie-plot-synopses-with-tags) and [OMDb](http://www.omdbapi.com/),\n",
    "    * textual user reviews from [LMRD](https://ai.stanford.edu/~amaas/data/sentiment/),\n",
    "    * images of movies (e.g., posters) and people (e.g., still images) from [MovieNet](http://movienet.site/);\n",
    "    \n",
    "    \n",
    "**The dataset is published at https://files.ifi.uzh.ch/ddis/teaching/2023/ATAI/dataset/**"
   ]
  },
  {
   "cell_type": "markdown",
   "metadata": {
    "id": "53nBQpYb37bw"
   },
   "source": [
    "## 2. Data Analysis\n"
   ]
  },
  {
   "cell_type": "markdown",
   "metadata": {
    "id": "nBCtW2krgAxV"
   },
   "source": [
    "### 2.1 Load the data"
   ]
  },
  {
   "cell_type": "code",
   "execution_count": 5,
   "metadata": {},
   "outputs": [
    {
     "name": "stdout",
     "output_type": "stream",
     "text": [
      "Requirement already satisfied: rdflib in /Users/samwallace/Library/Mobile Documents/com~apple~CloudDocs/UZH-S3/Advanced topics of AI/Tutorials/.conda/lib/python3.11/site-packages (7.0.0)\n",
      "Requirement already satisfied: isodate<0.7.0,>=0.6.0 in /Users/samwallace/Library/Mobile Documents/com~apple~CloudDocs/UZH-S3/Advanced topics of AI/Tutorials/.conda/lib/python3.11/site-packages (from rdflib) (0.6.1)\n",
      "Requirement already satisfied: pyparsing<4,>=2.1.0 in /Users/samwallace/Library/Mobile Documents/com~apple~CloudDocs/UZH-S3/Advanced topics of AI/Tutorials/.conda/lib/python3.11/site-packages (from rdflib) (3.1.4)\n",
      "Requirement already satisfied: six in /Users/samwallace/Library/Mobile Documents/com~apple~CloudDocs/UZH-S3/Advanced topics of AI/Tutorials/.conda/lib/python3.11/site-packages (from isodate<0.7.0,>=0.6.0->rdflib) (1.16.0)\n",
      "Requirement already satisfied: networkx in /Users/samwallace/Library/Mobile Documents/com~apple~CloudDocs/UZH-S3/Advanced topics of AI/Tutorials/.conda/lib/python3.11/site-packages (3.3)\n",
      "Requirement already satisfied: pandas in /Users/samwallace/Library/Mobile Documents/com~apple~CloudDocs/UZH-S3/Advanced topics of AI/Tutorials/.conda/lib/python3.11/site-packages (2.2.3)\n",
      "Requirement already satisfied: numpy>=1.23.2 in /Users/samwallace/Library/Mobile Documents/com~apple~CloudDocs/UZH-S3/Advanced topics of AI/Tutorials/.conda/lib/python3.11/site-packages (from pandas) (2.1.1)\n",
      "Requirement already satisfied: python-dateutil>=2.8.2 in /Users/samwallace/Library/Mobile Documents/com~apple~CloudDocs/UZH-S3/Advanced topics of AI/Tutorials/.conda/lib/python3.11/site-packages (from pandas) (2.9.0.post0)\n",
      "Requirement already satisfied: pytz>=2020.1 in /Users/samwallace/Library/Mobile Documents/com~apple~CloudDocs/UZH-S3/Advanced topics of AI/Tutorials/.conda/lib/python3.11/site-packages (from pandas) (2024.2)\n",
      "Requirement already satisfied: tzdata>=2022.7 in /Users/samwallace/Library/Mobile Documents/com~apple~CloudDocs/UZH-S3/Advanced topics of AI/Tutorials/.conda/lib/python3.11/site-packages (from pandas) (2024.1)\n",
      "Requirement already satisfied: six>=1.5 in /Users/samwallace/Library/Mobile Documents/com~apple~CloudDocs/UZH-S3/Advanced topics of AI/Tutorials/.conda/lib/python3.11/site-packages (from python-dateutil>=2.8.2->pandas) (1.16.0)\n",
      "Requirement already satisfied: plotly in /Users/samwallace/Library/Mobile Documents/com~apple~CloudDocs/UZH-S3/Advanced topics of AI/Tutorials/.conda/lib/python3.11/site-packages (5.24.1)\n",
      "Requirement already satisfied: tenacity>=6.2.0 in /Users/samwallace/Library/Mobile Documents/com~apple~CloudDocs/UZH-S3/Advanced topics of AI/Tutorials/.conda/lib/python3.11/site-packages (from plotly) (9.0.0)\n",
      "Requirement already satisfied: packaging in /Users/samwallace/Library/Mobile Documents/com~apple~CloudDocs/UZH-S3/Advanced topics of AI/Tutorials/.conda/lib/python3.11/site-packages (from plotly) (24.1)\n"
     ]
    }
   ],
   "source": [
    "!pip install rdflib\n",
    "!pip install networkx\n",
    "!pip install pandas\n",
    "!pip install plotly"
   ]
  },
  {
   "cell_type": "code",
   "execution_count": 4,
   "metadata": {
    "colab": {
     "base_uri": "https://localhost:8080/",
     "height": 255
    },
    "executionInfo": {
     "elapsed": 12393,
     "status": "ok",
     "timestamp": 1632683772579,
     "user": {
      "displayName": "Go Friday",
      "photoUrl": "https://lh3.googleusercontent.com/a/default-user=s64",
      "userId": "04257507274310331112"
     },
     "user_tz": -120
    },
    "id": "qsEynPSV4FKf",
    "outputId": "b0a602e6-abbd-497a-ad9d-abbac38a65ab"
   },
   "outputs": [
    {
     "data": {
      "text/html": [
       "        <script type=\"text/javascript\">\n",
       "        window.PlotlyConfig = {MathJaxConfig: 'local'};\n",
       "        if (window.MathJax && window.MathJax.Hub && window.MathJax.Hub.Config) {window.MathJax.Hub.Config({SVG: {font: \"STIX-Web\"}});}\n",
       "        if (typeof require !== 'undefined') {\n",
       "        require.undef(\"plotly\");\n",
       "        requirejs.config({\n",
       "            paths: {\n",
       "                'plotly': ['https://cdn.plot.ly/plotly-2.35.2.min']\n",
       "            }\n",
       "        });\n",
       "        require(['plotly'], function(Plotly) {\n",
       "            window._Plotly = Plotly;\n",
       "        });\n",
       "        }\n",
       "        </script>\n",
       "        "
      ]
     },
     "metadata": {},
     "output_type": "display_data"
    }
   ],
   "source": [
    "from rdflib.namespace import Namespace, RDF, RDFS, XSD\n",
    "from rdflib.term import URIRef, Literal\n",
    "import csv\n",
    "import json\n",
    "import networkx as nx\n",
    "import pandas as pd\n",
    "import rdflib\n",
    "from collections import defaultdict, Counter\n",
    "import locale\n",
    "_ = locale.setlocale(locale.LC_ALL, '')\n",
    "from _plotly_future_ import v4_subplots\n",
    "from plotly.offline import download_plotlyjs, init_notebook_mode, plot, iplot\n",
    "import plotly.graph_objs as go\n",
    "init_notebook_mode(connected=True)\n",
    "import plotly.io as pio\n",
    "pio.renderers.default = 'jupyterlab+svg'"
   ]
  },
  {
   "cell_type": "code",
   "execution_count": 13,
   "metadata": {
    "colab": {
     "base_uri": "https://localhost:8080/"
    },
    "executionInfo": {
     "elapsed": 139148,
     "status": "ok",
     "timestamp": 1632681991550,
     "user": {
      "displayName": "Go Friday",
      "photoUrl": "https://lh3.googleusercontent.com/a/default-user=s64",
      "userId": "04257507274310331112"
     },
     "user_tz": -120
    },
    "id": "lJqbjO9D4TcN",
    "outputId": "49fe0321-0ef5-4324-d56a-8aba54913547"
   },
   "outputs": [
    {
     "data": {
      "text/plain": [
       "<Graph identifier=Nb579629987604156800dfc1656373a36 (<class 'rdflib.graph.Graph'>)>"
      ]
     },
     "execution_count": 13,
     "metadata": {},
     "output_type": "execute_result"
    }
   ],
   "source": [
    "graph = rdflib.Graph()\n",
    "graph.parse('./14_graph.nt', format='turtle')"
   ]
  },
  {
   "cell_type": "markdown",
   "metadata": {
    "id": "BBNRtXqbb0GN"
   },
   "source": [
    "### 2.2 Graph Statistics"
   ]
  },
  {
   "cell_type": "code",
   "execution_count": 14,
   "metadata": {
    "executionInfo": {
     "elapsed": 311,
     "status": "ok",
     "timestamp": 1632682133729,
     "user": {
      "displayName": "Go Friday",
      "photoUrl": "https://lh3.googleusercontent.com/a/default-user=s64",
      "userId": "04257507274310331112"
     },
     "user_tz": -120
    },
    "id": "7KQagm9qcEFN"
   },
   "outputs": [],
   "source": [
    "# prefixes used in the graph\n",
    "WD = Namespace('http://www.wikidata.org/entity/')\n",
    "WDT = Namespace('http://www.wikidata.org/prop/direct/')\n",
    "SCHEMA = Namespace('http://schema.org/')\n",
    "DDIS = Namespace('http://ddis.ch/atai/')"
   ]
  },
  {
   "cell_type": "code",
   "execution_count": 15,
   "metadata": {
    "colab": {
     "base_uri": "https://localhost:8080/",
     "height": 359
    },
    "executionInfo": {
     "elapsed": 37086,
     "status": "ok",
     "timestamp": 1632682237348,
     "user": {
      "displayName": "Go Friday",
      "photoUrl": "https://lh3.googleusercontent.com/a/default-user=s64",
      "userId": "04257507274310331112"
     },
     "user_tz": -120
    },
    "id": "dF0ouXGRZiob",
    "outputId": "08eae839-fd9f-4e2f-c3c2-16742a84c7a7"
   },
   "outputs": [
    {
     "data": {
      "text/html": [
       "<div>\n",
       "<style scoped>\n",
       "    .dataframe tbody tr th:only-of-type {\n",
       "        vertical-align: middle;\n",
       "    }\n",
       "\n",
       "    .dataframe tbody tr th {\n",
       "        vertical-align: top;\n",
       "    }\n",
       "\n",
       "    .dataframe thead th {\n",
       "        text-align: right;\n",
       "    }\n",
       "</style>\n",
       "<table border=\"1\" class=\"dataframe\">\n",
       "  <thead>\n",
       "    <tr style=\"text-align: right;\">\n",
       "      <th></th>\n",
       "      <th>0</th>\n",
       "      <th>1</th>\n",
       "    </tr>\n",
       "  </thead>\n",
       "  <tbody>\n",
       "    <tr>\n",
       "      <th>0</th>\n",
       "      <td>number of entities</td>\n",
       "      <td>159154</td>\n",
       "    </tr>\n",
       "    <tr>\n",
       "      <th>1</th>\n",
       "      <td>number of literals</td>\n",
       "      <td>411590</td>\n",
       "    </tr>\n",
       "    <tr>\n",
       "      <th>2</th>\n",
       "      <td>number of predicates</td>\n",
       "      <td>255</td>\n",
       "    </tr>\n",
       "    <tr>\n",
       "      <th>3</th>\n",
       "      <td>number of triples</td>\n",
       "      <td>2056777</td>\n",
       "    </tr>\n",
       "    <tr>\n",
       "      <th>4</th>\n",
       "      <td>number of ent-ent triples</td>\n",
       "      <td>1498899</td>\n",
       "    </tr>\n",
       "    <tr>\n",
       "      <th>5</th>\n",
       "      <td>number of ent-lit triples</td>\n",
       "      <td>557878</td>\n",
       "    </tr>\n",
       "    <tr>\n",
       "      <th>6</th>\n",
       "      <td>number of entities w/o label</td>\n",
       "      <td>1095</td>\n",
       "    </tr>\n",
       "    <tr>\n",
       "      <th>7</th>\n",
       "      <td>number of predicates w/o label</td>\n",
       "      <td>2</td>\n",
       "    </tr>\n",
       "    <tr>\n",
       "      <th>8</th>\n",
       "      <td>number of entities w/o type</td>\n",
       "      <td>5761</td>\n",
       "    </tr>\n",
       "    <tr>\n",
       "      <th>9</th>\n",
       "      <td>number of instances w/o type</td>\n",
       "      <td>344</td>\n",
       "    </tr>\n",
       "  </tbody>\n",
       "</table>\n",
       "</div>"
      ],
      "text/plain": [
       "                                0        1\n",
       "0              number of entities   159154\n",
       "1              number of literals   411590\n",
       "2            number of predicates      255\n",
       "3               number of triples  2056777\n",
       "4       number of ent-ent triples  1498899\n",
       "5       number of ent-lit triples   557878\n",
       "6    number of entities w/o label     1095\n",
       "7  number of predicates w/o label        2\n",
       "8     number of entities w/o type     5761\n",
       "9    number of instances w/o type      344"
      ]
     },
     "execution_count": 15,
     "metadata": {},
     "output_type": "execute_result"
    }
   ],
   "source": [
    "entities = set(graph.subjects()) | {s for s in graph.objects() if isinstance(s, URIRef)}\n",
    "predicates = set(graph.predicates())\n",
    "literals = {s for s in graph.objects() if isinstance(s, Literal)}\n",
    "with_type = set(graph.subjects(WDT['P31'], None))\n",
    "with_super = set(graph.subjects(WDT['P279'], None))\n",
    "types = set(graph.objects(None, WDT['P31']))\n",
    "supers = set(graph.objects(None, WDT['P279']))\n",
    "with_label = set(graph.subjects(RDFS.label, None))\n",
    "\n",
    "n_ents = len(entities)\n",
    "n_rels = len(predicates)\n",
    "n_lits = len(literals)\n",
    "t_tot = len(graph)\n",
    "t_ent = len([1 for s,p,o in graph.triples((None, None, None)) if isinstance(o, URIRef)])\n",
    "t_lit = t_tot - t_ent\n",
    "n_notype = len(entities - with_type - with_super)\n",
    "n_notype_flt = len(entities - with_type - with_super - types - supers)\n",
    "\n",
    "pd.DataFrame([\n",
    "    ('number of entities', f'{n_ents:n}'),\n",
    "    ('number of literals', f'{n_lits:n}'),\n",
    "    ('number of predicates', f'{n_rels:n}'),\n",
    "    ('number of triples', f'{t_tot:n}'),\n",
    "    ('number of ent-ent triples', f'{t_ent:n}'),\n",
    "    ('number of ent-lit triples', f'{t_lit:n}'),\n",
    "    ('number of entities w/o label', f'{len(entities - with_label):n}'),\n",
    "    ('number of predicates w/o label', f'{len(predicates - with_label):n}'),\n",
    "    ('number of entities w/o type', f'{n_notype:n}'),\n",
    "    ('number of instances w/o type', f'{n_notype_flt:n}'),\n",
    "    ])"
   ]
  },
  {
   "cell_type": "markdown",
   "metadata": {
    "id": "PbvSdhD3d3M1"
   },
   "source": [
    "### 2.3 External Resource Statistics"
   ]
  },
  {
   "cell_type": "code",
   "execution_count": 21,
   "metadata": {
    "colab": {
     "base_uri": "https://localhost:8080/",
     "height": 204
    },
    "executionInfo": {
     "elapsed": 5533,
     "status": "ok",
     "timestamp": 1632682466047,
     "user": {
      "displayName": "Go Friday",
      "photoUrl": "https://lh3.googleusercontent.com/a/default-user=s64",
      "userId": "04257507274310331112"
     },
     "user_tz": -120
    },
    "id": "ZqeAnA7scSLX",
    "outputId": "081c756b-63e8-4cf1-c1d0-c676a2da31fa"
   },
   "outputs": [
    {
     "ename": "FileNotFoundError",
     "evalue": "[Errno 2] No such file or directory: './imdb-top-250.t'",
     "output_type": "error",
     "traceback": [
      "\u001b[0;31m---------------------------------------------------------------------------\u001b[0m",
      "\u001b[0;31mFileNotFoundError\u001b[0m                         Traceback (most recent call last)",
      "Cell \u001b[0;32mIn[21], line 1\u001b[0m\n\u001b[0;32m----> 1\u001b[0m top250 \u001b[38;5;241m=\u001b[39m \u001b[38;5;28mset\u001b[39m(\u001b[38;5;28mopen\u001b[39m(\u001b[38;5;124m'\u001b[39m\u001b[38;5;124m./imdb-top-250.t\u001b[39m\u001b[38;5;124m'\u001b[39m)\u001b[38;5;241m.\u001b[39mread()\u001b[38;5;241m.\u001b[39msplit(\u001b[38;5;124m'\u001b[39m\u001b[38;5;130;01m\\n\u001b[39;00m\u001b[38;5;124m'\u001b[39m)) \u001b[38;5;241m-\u001b[39m {\u001b[38;5;124m'\u001b[39m\u001b[38;5;124m'\u001b[39m}\n\u001b[1;32m      3\u001b[0m pd\u001b[38;5;241m.\u001b[39mDataFrame([\n\u001b[1;32m      4\u001b[0m     (\u001b[38;5;124m'\u001b[39m\u001b[38;5;124mTop-250 coverage\u001b[39m\u001b[38;5;124m'\u001b[39m, \u001b[38;5;124m'\u001b[39m\u001b[38;5;132;01m{:n}\u001b[39;00m\u001b[38;5;124m'\u001b[39m\u001b[38;5;241m.\u001b[39mformat(\n\u001b[1;32m      5\u001b[0m         \u001b[38;5;28mlen\u001b[39m(top250 \u001b[38;5;241m&\u001b[39m {\u001b[38;5;28mstr\u001b[39m(o) \u001b[38;5;28;01mfor\u001b[39;00m o \u001b[38;5;129;01min\u001b[39;00m graph\u001b[38;5;241m.\u001b[39mobjects(\u001b[38;5;28;01mNone\u001b[39;00m, WDT\u001b[38;5;241m.\u001b[39mP345) \u001b[38;5;28;01mif\u001b[39;00m o\u001b[38;5;241m.\u001b[39mstartswith(\u001b[38;5;124m'\u001b[39m\u001b[38;5;124mtt\u001b[39m\u001b[38;5;124m'\u001b[39m)}))),\n\u001b[0;32m   (...)\u001b[0m\n\u001b[1;32m     13\u001b[0m         \u001b[38;5;28mlen\u001b[39m({qid \u001b[38;5;28;01mfor\u001b[39;00m qid, rating, sentiment, comment \u001b[38;5;129;01min\u001b[39;00m csv\u001b[38;5;241m.\u001b[39mreader(\u001b[38;5;28mopen\u001b[39m(\u001b[38;5;124m'\u001b[39m\u001b[38;5;124m./user-comments.csv\u001b[39m\u001b[38;5;124m'\u001b[39m)) \u001b[38;5;28;01mif\u001b[39;00m URIRef(qid) \u001b[38;5;129;01min\u001b[39;00m entities}))), \n\u001b[1;32m     14\u001b[0m     ])\n",
      "File \u001b[0;32m~/Library/Mobile Documents/com~apple~CloudDocs/UZH-S3/Advanced topics of AI/Tutorials/.conda/lib/python3.11/site-packages/IPython/core/interactiveshell.py:324\u001b[0m, in \u001b[0;36m_modified_open\u001b[0;34m(file, *args, **kwargs)\u001b[0m\n\u001b[1;32m    317\u001b[0m \u001b[38;5;28;01mif\u001b[39;00m file \u001b[38;5;129;01min\u001b[39;00m {\u001b[38;5;241m0\u001b[39m, \u001b[38;5;241m1\u001b[39m, \u001b[38;5;241m2\u001b[39m}:\n\u001b[1;32m    318\u001b[0m     \u001b[38;5;28;01mraise\u001b[39;00m \u001b[38;5;167;01mValueError\u001b[39;00m(\n\u001b[1;32m    319\u001b[0m         \u001b[38;5;124mf\u001b[39m\u001b[38;5;124m\"\u001b[39m\u001b[38;5;124mIPython won\u001b[39m\u001b[38;5;124m'\u001b[39m\u001b[38;5;124mt let you open fd=\u001b[39m\u001b[38;5;132;01m{\u001b[39;00mfile\u001b[38;5;132;01m}\u001b[39;00m\u001b[38;5;124m by default \u001b[39m\u001b[38;5;124m\"\u001b[39m\n\u001b[1;32m    320\u001b[0m         \u001b[38;5;124m\"\u001b[39m\u001b[38;5;124mas it is likely to crash IPython. If you know what you are doing, \u001b[39m\u001b[38;5;124m\"\u001b[39m\n\u001b[1;32m    321\u001b[0m         \u001b[38;5;124m\"\u001b[39m\u001b[38;5;124myou can use builtins\u001b[39m\u001b[38;5;124m'\u001b[39m\u001b[38;5;124m open.\u001b[39m\u001b[38;5;124m\"\u001b[39m\n\u001b[1;32m    322\u001b[0m     )\n\u001b[0;32m--> 324\u001b[0m \u001b[38;5;28;01mreturn\u001b[39;00m io_open(file, \u001b[38;5;241m*\u001b[39margs, \u001b[38;5;241m*\u001b[39m\u001b[38;5;241m*\u001b[39mkwargs)\n",
      "\u001b[0;31mFileNotFoundError\u001b[0m: [Errno 2] No such file or directory: './imdb-top-250.t'"
     ]
    }
   ],
   "source": [
    "top250 = set(open('./imdb-top-250.t').read().split('\\n')) - {''}\n",
    "\n",
    "pd.DataFrame([\n",
    "    ('Top-250 coverage', '{:n}'.format(\n",
    "        len(top250 & {str(o) for o in graph.objects(None, WDT.P345) if o.startswith('tt')}))),\n",
    "    ('Entities with IMDb ID', '{:n}'.format(\n",
    "        len({str(o) for o in graph.objects(None, WDT.P345) if o.startswith('tt')}))),\n",
    "    ('Plots linked to a movie', '{:n}'.format(\n",
    "        len({qid for qid, plot in csv.reader(open('./plots.csv')) if URIRef(qid) in entities}))),\n",
    "    ('Comments linked to a movie', '{:n}'.format(\n",
    "        len([qid for qid, rating, sentiment, comment in csv.reader(open('./user-comments.csv')) if URIRef(qid) in entities]))),\n",
    "    ('Movies having at least one comment', '{:n}'.format(\n",
    "        len({qid for qid, rating, sentiment, comment in csv.reader(open('./user-comments.csv')) if URIRef(qid) in entities}))), \n",
    "    ])"
   ]
  },
  {
   "cell_type": "markdown",
   "metadata": {
    "id": "iPK1SDy_eScM"
   },
   "source": [
    "### 2.4 Literal Statistics"
   ]
  },
  {
   "cell_type": "code",
   "execution_count": 22,
   "metadata": {
    "colab": {
     "base_uri": "https://localhost:8080/"
    },
    "executionInfo": {
     "elapsed": 6396,
     "status": "ok",
     "timestamp": 1632682772324,
     "user": {
      "displayName": "Go Friday",
      "photoUrl": "https://lh3.googleusercontent.com/a/default-user=s64",
      "userId": "04257507274310331112"
     },
     "user_tz": -120
    },
    "id": "Pk2Wbv5hc7PY",
    "outputId": "20ac8068-1ef3-4164-9de3-2916b90acb60"
   },
   "outputs": [
    {
     "data": {
      "text/plain": [
       "{rdflib.term.URIRef('http://ddis.ch/atai/rating'),\n",
       " rdflib.term.URIRef('http://ddis.ch/atai/tag'),\n",
       " rdflib.term.URIRef('http://schema.org/description'),\n",
       " rdflib.term.URIRef('http://www.w3.org/2000/01/rdf-schema#label'),\n",
       " rdflib.term.URIRef('http://www.wikidata.org/prop/direct/P18'),\n",
       " rdflib.term.URIRef('http://www.wikidata.org/prop/direct/P2142'),\n",
       " rdflib.term.URIRef('http://www.wikidata.org/prop/direct/P345'),\n",
       " rdflib.term.URIRef('http://www.wikidata.org/prop/direct/P577')}"
      ]
     },
     "execution_count": 22,
     "metadata": {},
     "output_type": "execute_result"
    }
   ],
   "source": [
    "# literal predicates\n",
    "ent_lit_preds = {p for s,p,o in graph.triples((None, None, None)) if isinstance(o, Literal)}\n",
    "ent_lit_preds"
   ]
  },
  {
   "cell_type": "code",
   "execution_count": 23,
   "metadata": {
    "colab": {
     "base_uri": "https://localhost:8080/",
     "height": 328
    },
    "executionInfo": {
     "elapsed": 3675,
     "status": "ok",
     "timestamp": 1632682782789,
     "user": {
      "displayName": "Go Friday",
      "photoUrl": "https://lh3.googleusercontent.com/a/default-user=s64",
      "userId": "04257507274310331112"
     },
     "user_tz": -120
    },
    "id": "71gk3IcfeeyI",
    "outputId": "83acc9a8-f403-4248-fced-deae6cc62ec8"
   },
   "outputs": [
    {
     "data": {
      "text/html": [
       "<div>\n",
       "<style scoped>\n",
       "    .dataframe tbody tr th:only-of-type {\n",
       "        vertical-align: middle;\n",
       "    }\n",
       "\n",
       "    .dataframe tbody tr th {\n",
       "        vertical-align: top;\n",
       "    }\n",
       "\n",
       "    .dataframe thead th {\n",
       "        text-align: right;\n",
       "    }\n",
       "</style>\n",
       "<table border=\"1\" class=\"dataframe\">\n",
       "  <thead>\n",
       "    <tr style=\"text-align: right;\">\n",
       "      <th></th>\n",
       "      <th>0</th>\n",
       "      <th>1</th>\n",
       "    </tr>\n",
       "  </thead>\n",
       "  <tbody>\n",
       "    <tr>\n",
       "      <th>0</th>\n",
       "      <td># entities</td>\n",
       "      <td>159154</td>\n",
       "    </tr>\n",
       "    <tr>\n",
       "      <th>1</th>\n",
       "      <td>DDIS.rating</td>\n",
       "      <td>2451</td>\n",
       "    </tr>\n",
       "    <tr>\n",
       "      <th>2</th>\n",
       "      <td>DDIS.tag</td>\n",
       "      <td>10366</td>\n",
       "    </tr>\n",
       "    <tr>\n",
       "      <th>3</th>\n",
       "      <td>SCHEMA.description</td>\n",
       "      <td>149753</td>\n",
       "    </tr>\n",
       "    <tr>\n",
       "      <th>4</th>\n",
       "      <td>RDFS.label</td>\n",
       "      <td>157806</td>\n",
       "    </tr>\n",
       "    <tr>\n",
       "      <th>5</th>\n",
       "      <td>WDT.P18 (wikicommons image)</td>\n",
       "      <td>52828</td>\n",
       "    </tr>\n",
       "    <tr>\n",
       "      <th>6</th>\n",
       "      <td>WDT.P2142 (box office)</td>\n",
       "      <td>1881</td>\n",
       "    </tr>\n",
       "    <tr>\n",
       "      <th>7</th>\n",
       "      <td>WDT.P345 (IMDb ID)</td>\n",
       "      <td>123596</td>\n",
       "    </tr>\n",
       "    <tr>\n",
       "      <th>8</th>\n",
       "      <td>WDT.P577 (publication date)</td>\n",
       "      <td>28642</td>\n",
       "    </tr>\n",
       "  </tbody>\n",
       "</table>\n",
       "</div>"
      ],
      "text/plain": [
       "                             0       1\n",
       "0                   # entities  159154\n",
       "1                  DDIS.rating    2451\n",
       "2                     DDIS.tag   10366\n",
       "3           SCHEMA.description  149753\n",
       "4                   RDFS.label  157806\n",
       "5  WDT.P18 (wikicommons image)   52828\n",
       "6       WDT.P2142 (box office)    1881\n",
       "7           WDT.P345 (IMDb ID)  123596\n",
       "8  WDT.P577 (publication date)   28642"
      ]
     },
     "execution_count": 23,
     "metadata": {},
     "output_type": "execute_result"
    }
   ],
   "source": [
    "# literal\n",
    "pd.DataFrame([\n",
    "    ('# entities', '{:n}'.format(\n",
    "        len(entities))),\n",
    "    ('DDIS.rating', '{:n}'.format(\n",
    "        len(set(graph.subjects(DDIS.rating, None))))),\n",
    "    ('DDIS.tag', '{:n}'.format(\n",
    "        len(set(graph.subjects(DDIS.tag, None))))),\n",
    "    ('SCHEMA.description', '{:n}'.format(\n",
    "        len({s for s in graph.subjects(SCHEMA.description, None) if s.startswith(WD)}))),\n",
    "    ('RDFS.label', '{:n}'.format(\n",
    "        len({s for s in graph.subjects(RDFS.label, None) if s.startswith(WD)}))),\n",
    "    ('WDT.P18 (wikicommons image)', '{:n}'.format(\n",
    "        len(set(graph.subjects(WDT.P18, None))))),\n",
    "    ('WDT.P2142 (box office)', '{:n}'.format(\n",
    "        len(set(graph.subjects(WDT.P2142, None))))),\n",
    "    ('WDT.P345 (IMDb ID)', '{:n}'.format(\n",
    "        len(set(graph.subjects(WDT.P345, None))))),\n",
    "    ('WDT.P577 (publication date)', '{:n}'.format(\n",
    "        len(set(graph.subjects(WDT.P577, None))))),\n",
    "    ])"
   ]
  },
  {
   "cell_type": "markdown",
   "metadata": {
    "id": "fxytdEGKfNJn"
   },
   "source": [
    "### 2.5 Graph Connectivity"
   ]
  },
  {
   "cell_type": "code",
   "execution_count": 24,
   "metadata": {
    "colab": {
     "base_uri": "https://localhost:8080/"
    },
    "executionInfo": {
     "elapsed": 82621,
     "status": "ok",
     "timestamp": 1632683106210,
     "user": {
      "displayName": "Go Friday",
      "photoUrl": "https://lh3.googleusercontent.com/a/default-user=s64",
      "userId": "04257507274310331112"
     },
     "user_tz": -120
    },
    "id": "C72Lmm64eiCY",
    "outputId": "8d2f3eb4-4028-42e6-fc1a-df62e2d38354"
   },
   "outputs": [
    {
     "name": "stdout",
     "output_type": "stream",
     "text": [
      "number of connected graphs: 1\n"
     ]
    }
   ],
   "source": [
    "ng = nx.MultiDiGraph()\n",
    "_ = ng.add_edges_from([\n",
    "        (s, o, dict(pred=p)) for s,p,o in graph.triples((None, None, None)) if isinstance(o, URIRef)\n",
    "        ])\n",
    "\n",
    "comp = list(nx.connected_components(ng.to_undirected()))\n",
    "\n",
    "print(\"number of connected graphs: {}\".format(len(comp)))"
   ]
  },
  {
   "cell_type": "markdown",
   "metadata": {
    "id": "IM9Ngj2KgIv1"
   },
   "source": [
    "### 2.6 Node Degree Distribution"
   ]
  },
  {
   "cell_type": "markdown",
   "metadata": {},
   "source": [
    "* If the following figures cannot be displayed, terminate your current Jupyter server and install required extensions via the command `jupyter labextension install jupyterlab-plotly`."
   ]
  },
  {
   "cell_type": "code",
   "execution_count": 30,
   "metadata": {
    "colab": {
     "base_uri": "https://localhost:8080/",
     "height": 542
    },
    "executionInfo": {
     "elapsed": 4658,
     "status": "ok",
     "timestamp": 1632683814813,
     "user": {
      "displayName": "Go Friday",
      "photoUrl": "https://lh3.googleusercontent.com/a/default-user=s64",
      "userId": "04257507274310331112"
     },
     "user_tz": -120
    },
    "id": "3a5GAuO-fMCr",
    "outputId": "98a902f8-d19d-4e8a-9758-69f8a4c430c2"
   },
   "outputs": [
    {
     "ename": "ValueError",
     "evalue": "\nImage export using the \"kaleido\" engine requires the kaleido package,\nwhich can be installed using pip:\n    $ pip install -U kaleido\n",
     "output_type": "error",
     "traceback": [
      "\u001b[0;31m---------------------------------------------------------------------------\u001b[0m",
      "\u001b[0;31mValueError\u001b[0m                                Traceback (most recent call last)",
      "Cell \u001b[0;32mIn[30], line 1\u001b[0m\n\u001b[0;32m----> 1\u001b[0m iplot(\n\u001b[1;32m      2\u001b[0m   \u001b[38;5;28mdict\u001b[39m(\n\u001b[1;32m      3\u001b[0m     data\u001b[38;5;241m=\u001b[39m[go\u001b[38;5;241m.\u001b[39mHistogram(x\u001b[38;5;241m=\u001b[39m[deg \u001b[38;5;28;01mfor\u001b[39;00m _, deg \u001b[38;5;129;01min\u001b[39;00m ng\u001b[38;5;241m.\u001b[39mdegree() \u001b[38;5;28;01mif\u001b[39;00m deg \u001b[38;5;241m<\u001b[39m \u001b[38;5;241m100\u001b[39m])],\n\u001b[1;32m      4\u001b[0m     layout\u001b[38;5;241m=\u001b[39mgo\u001b[38;5;241m.\u001b[39mLayout(\n\u001b[1;32m      5\u001b[0m         title\u001b[38;5;241m=\u001b[39m\u001b[38;5;124m'\u001b[39m\u001b[38;5;124mNode degree distribution\u001b[39m\u001b[38;5;124m'\u001b[39m,\n\u001b[1;32m      6\u001b[0m         xaxis\u001b[38;5;241m=\u001b[39m\u001b[38;5;28mdict\u001b[39m(\n\u001b[1;32m      7\u001b[0m             title\u001b[38;5;241m=\u001b[39m\u001b[38;5;124m'\u001b[39m\u001b[38;5;124mNode degree\u001b[39m\u001b[38;5;124m'\u001b[39m),\n\u001b[1;32m      8\u001b[0m         yaxis\u001b[38;5;241m=\u001b[39m\u001b[38;5;28mdict\u001b[39m(\n\u001b[1;32m      9\u001b[0m             title\u001b[38;5;241m=\u001b[39m\u001b[38;5;124m'\u001b[39m\u001b[38;5;124mCount\u001b[39m\u001b[38;5;124m'\u001b[39m),\n\u001b[1;32m     10\u001b[0m )))\n",
      "File \u001b[0;32m~/Library/Mobile Documents/com~apple~CloudDocs/UZH-S3/Advanced topics of AI/Tutorials/.conda/lib/python3.11/site-packages/plotly/offline/offline.py:387\u001b[0m, in \u001b[0;36miplot\u001b[0;34m(figure_or_data, show_link, link_text, validate, image, filename, image_width, image_height, config, auto_play, animation_opts)\u001b[0m\n\u001b[1;32m    382\u001b[0m post_script \u001b[38;5;241m=\u001b[39m build_save_image_post_script(\n\u001b[1;32m    383\u001b[0m     image, filename, image_height, image_width, \u001b[38;5;124m\"\u001b[39m\u001b[38;5;124miplot\u001b[39m\u001b[38;5;124m\"\u001b[39m\n\u001b[1;32m    384\u001b[0m )\n\u001b[1;32m    386\u001b[0m \u001b[38;5;66;03m# Show figure\u001b[39;00m\n\u001b[0;32m--> 387\u001b[0m pio\u001b[38;5;241m.\u001b[39mshow(\n\u001b[1;32m    388\u001b[0m     figure,\n\u001b[1;32m    389\u001b[0m     validate\u001b[38;5;241m=\u001b[39mvalidate,\n\u001b[1;32m    390\u001b[0m     config\u001b[38;5;241m=\u001b[39mconfig,\n\u001b[1;32m    391\u001b[0m     auto_play\u001b[38;5;241m=\u001b[39mauto_play,\n\u001b[1;32m    392\u001b[0m     post_script\u001b[38;5;241m=\u001b[39mpost_script,\n\u001b[1;32m    393\u001b[0m     animation_opts\u001b[38;5;241m=\u001b[39manimation_opts,\n\u001b[1;32m    394\u001b[0m )\n",
      "File \u001b[0;32m~/Library/Mobile Documents/com~apple~CloudDocs/UZH-S3/Advanced topics of AI/Tutorials/.conda/lib/python3.11/site-packages/plotly/io/_renderers.py:386\u001b[0m, in \u001b[0;36mshow\u001b[0;34m(fig, renderer, validate, **kwargs)\u001b[0m\n\u001b[1;32m    383\u001b[0m fig_dict \u001b[38;5;241m=\u001b[39m validate_coerce_fig_to_dict(fig, validate)\n\u001b[1;32m    385\u001b[0m \u001b[38;5;66;03m# Mimetype renderers\u001b[39;00m\n\u001b[0;32m--> 386\u001b[0m bundle \u001b[38;5;241m=\u001b[39m renderers\u001b[38;5;241m.\u001b[39m_build_mime_bundle(fig_dict, renderers_string\u001b[38;5;241m=\u001b[39mrenderer, \u001b[38;5;241m*\u001b[39m\u001b[38;5;241m*\u001b[39mkwargs)\n\u001b[1;32m    387\u001b[0m \u001b[38;5;28;01mif\u001b[39;00m bundle:\n\u001b[1;32m    388\u001b[0m     \u001b[38;5;28;01mif\u001b[39;00m \u001b[38;5;129;01mnot\u001b[39;00m ipython_display:\n",
      "File \u001b[0;32m~/Library/Mobile Documents/com~apple~CloudDocs/UZH-S3/Advanced topics of AI/Tutorials/.conda/lib/python3.11/site-packages/plotly/io/_renderers.py:294\u001b[0m, in \u001b[0;36mRenderersConfig._build_mime_bundle\u001b[0;34m(self, fig_dict, renderers_string, **kwargs)\u001b[0m\n\u001b[1;32m    291\u001b[0m             \u001b[38;5;28;01mif\u001b[39;00m \u001b[38;5;28mhasattr\u001b[39m(renderer, k):\n\u001b[1;32m    292\u001b[0m                 \u001b[38;5;28msetattr\u001b[39m(renderer, k, v)\n\u001b[0;32m--> 294\u001b[0m         bundle\u001b[38;5;241m.\u001b[39mupdate(renderer\u001b[38;5;241m.\u001b[39mto_mimebundle(fig_dict))\n\u001b[1;32m    296\u001b[0m \u001b[38;5;28;01mreturn\u001b[39;00m bundle\n",
      "File \u001b[0;32m~/Library/Mobile Documents/com~apple~CloudDocs/UZH-S3/Advanced topics of AI/Tutorials/.conda/lib/python3.11/site-packages/plotly/io/_base_renderers.py:126\u001b[0m, in \u001b[0;36mImageRenderer.to_mimebundle\u001b[0;34m(self, fig_dict)\u001b[0m\n\u001b[1;32m    125\u001b[0m \u001b[38;5;28;01mdef\u001b[39;00m \u001b[38;5;21mto_mimebundle\u001b[39m(\u001b[38;5;28mself\u001b[39m, fig_dict):\n\u001b[0;32m--> 126\u001b[0m     image_bytes \u001b[38;5;241m=\u001b[39m to_image(\n\u001b[1;32m    127\u001b[0m         fig_dict,\n\u001b[1;32m    128\u001b[0m         \u001b[38;5;28mformat\u001b[39m\u001b[38;5;241m=\u001b[39m\u001b[38;5;28mself\u001b[39m\u001b[38;5;241m.\u001b[39mformat,\n\u001b[1;32m    129\u001b[0m         width\u001b[38;5;241m=\u001b[39m\u001b[38;5;28mself\u001b[39m\u001b[38;5;241m.\u001b[39mwidth,\n\u001b[1;32m    130\u001b[0m         height\u001b[38;5;241m=\u001b[39m\u001b[38;5;28mself\u001b[39m\u001b[38;5;241m.\u001b[39mheight,\n\u001b[1;32m    131\u001b[0m         scale\u001b[38;5;241m=\u001b[39m\u001b[38;5;28mself\u001b[39m\u001b[38;5;241m.\u001b[39mscale,\n\u001b[1;32m    132\u001b[0m         validate\u001b[38;5;241m=\u001b[39m\u001b[38;5;28;01mFalse\u001b[39;00m,\n\u001b[1;32m    133\u001b[0m         engine\u001b[38;5;241m=\u001b[39m\u001b[38;5;28mself\u001b[39m\u001b[38;5;241m.\u001b[39mengine,\n\u001b[1;32m    134\u001b[0m     )\n\u001b[1;32m    136\u001b[0m     \u001b[38;5;28;01mif\u001b[39;00m \u001b[38;5;28mself\u001b[39m\u001b[38;5;241m.\u001b[39mb64_encode:\n\u001b[1;32m    137\u001b[0m         image_str \u001b[38;5;241m=\u001b[39m base64\u001b[38;5;241m.\u001b[39mb64encode(image_bytes)\u001b[38;5;241m.\u001b[39mdecode(\u001b[38;5;124m\"\u001b[39m\u001b[38;5;124mutf8\u001b[39m\u001b[38;5;124m\"\u001b[39m)\n",
      "File \u001b[0;32m~/Library/Mobile Documents/com~apple~CloudDocs/UZH-S3/Advanced topics of AI/Tutorials/.conda/lib/python3.11/site-packages/plotly/io/_kaleido.py:132\u001b[0m, in \u001b[0;36mto_image\u001b[0;34m(fig, format, width, height, scale, validate, engine)\u001b[0m\n\u001b[1;32m    130\u001b[0m     \u001b[38;5;66;03m# Raise informative error message if Kaleido is not installed\u001b[39;00m\n\u001b[1;32m    131\u001b[0m     \u001b[38;5;28;01mif\u001b[39;00m scope \u001b[38;5;129;01mis\u001b[39;00m \u001b[38;5;28;01mNone\u001b[39;00m:\n\u001b[0;32m--> 132\u001b[0m         \u001b[38;5;28;01mraise\u001b[39;00m \u001b[38;5;167;01mValueError\u001b[39;00m(\n\u001b[1;32m    133\u001b[0m \u001b[38;5;250m            \u001b[39m\u001b[38;5;124;03m\"\"\"\u001b[39;00m\n\u001b[1;32m    134\u001b[0m \u001b[38;5;124;03mImage export using the \"kaleido\" engine requires the kaleido package,\u001b[39;00m\n\u001b[1;32m    135\u001b[0m \u001b[38;5;124;03mwhich can be installed using pip:\u001b[39;00m\n\u001b[1;32m    136\u001b[0m \u001b[38;5;124;03m    $ pip install -U kaleido\u001b[39;00m\n\u001b[1;32m    137\u001b[0m \u001b[38;5;124;03m\"\"\"\u001b[39;00m\n\u001b[1;32m    138\u001b[0m         )\n\u001b[1;32m    140\u001b[0m     \u001b[38;5;66;03m# Validate figure\u001b[39;00m\n\u001b[1;32m    141\u001b[0m     \u001b[38;5;66;03m# ---------------\u001b[39;00m\n\u001b[1;32m    142\u001b[0m     fig_dict \u001b[38;5;241m=\u001b[39m validate_coerce_fig_to_dict(fig, validate)\n",
      "\u001b[0;31mValueError\u001b[0m: \nImage export using the \"kaleido\" engine requires the kaleido package,\nwhich can be installed using pip:\n    $ pip install -U kaleido\n"
     ]
    }
   ],
   "source": [
    "iplot(\n",
    "  dict(\n",
    "    data=[go.Histogram(x=[deg for _, deg in ng.degree() if deg < 100])],\n",
    "    layout=go.Layout(\n",
    "        title='Node degree distribution',\n",
    "        xaxis=dict(\n",
    "            title='Node degree'),\n",
    "        yaxis=dict(\n",
    "            title='Count'),\n",
    ")))"
   ]
  },
  {
   "cell_type": "code",
   "execution_count": 28,
   "metadata": {
    "colab": {
     "base_uri": "https://localhost:8080/",
     "height": 297
    },
    "executionInfo": {
     "elapsed": 1876,
     "status": "ok",
     "timestamp": 1632683835057,
     "user": {
      "displayName": "Go Friday",
      "photoUrl": "https://lh3.googleusercontent.com/a/default-user=s64",
      "userId": "04257507274310331112"
     },
     "user_tz": -120
    },
    "id": "lWiC8nKKgSmj",
    "outputId": "768db60d-060e-4c09-9618-e3bd99878243"
   },
   "outputs": [
    {
     "data": {
      "text/html": [
       "<div>\n",
       "<style scoped>\n",
       "    .dataframe tbody tr th:only-of-type {\n",
       "        vertical-align: middle;\n",
       "    }\n",
       "\n",
       "    .dataframe tbody tr th {\n",
       "        vertical-align: top;\n",
       "    }\n",
       "\n",
       "    .dataframe thead th {\n",
       "        text-align: right;\n",
       "    }\n",
       "</style>\n",
       "<table border=\"1\" class=\"dataframe\">\n",
       "  <thead>\n",
       "    <tr style=\"text-align: right;\">\n",
       "      <th></th>\n",
       "      <th>0</th>\n",
       "    </tr>\n",
       "  </thead>\n",
       "  <tbody>\n",
       "    <tr>\n",
       "      <th>count</th>\n",
       "      <td>158900.000000</td>\n",
       "    </tr>\n",
       "    <tr>\n",
       "      <th>mean</th>\n",
       "      <td>18.865941</td>\n",
       "    </tr>\n",
       "    <tr>\n",
       "      <th>std</th>\n",
       "      <td>370.474405</td>\n",
       "    </tr>\n",
       "    <tr>\n",
       "      <th>min</th>\n",
       "      <td>1.000000</td>\n",
       "    </tr>\n",
       "    <tr>\n",
       "      <th>25%</th>\n",
       "      <td>5.000000</td>\n",
       "    </tr>\n",
       "    <tr>\n",
       "      <th>50%</th>\n",
       "      <td>8.000000</td>\n",
       "    </tr>\n",
       "    <tr>\n",
       "      <th>75%</th>\n",
       "      <td>16.000000</td>\n",
       "    </tr>\n",
       "    <tr>\n",
       "      <th>max</th>\n",
       "      <td>100432.000000</td>\n",
       "    </tr>\n",
       "  </tbody>\n",
       "</table>\n",
       "</div>"
      ],
      "text/plain": [
       "                   0\n",
       "count  158900.000000\n",
       "mean       18.865941\n",
       "std       370.474405\n",
       "min         1.000000\n",
       "25%         5.000000\n",
       "50%         8.000000\n",
       "75%        16.000000\n",
       "max    100432.000000"
      ]
     },
     "execution_count": 28,
     "metadata": {},
     "output_type": "execute_result"
    }
   ],
   "source": [
    "pd.DataFrame([deg for _, deg in ng.degree()]).describe()"
   ]
  },
  {
   "cell_type": "markdown",
   "metadata": {
    "id": "r1LwTcLkjx4S"
   },
   "source": [
    "### 2.7 Relation Distribution "
   ]
  },
  {
   "cell_type": "code",
   "execution_count": 29,
   "metadata": {
    "colab": {
     "base_uri": "https://localhost:8080/",
     "height": 542
    },
    "executionInfo": {
     "elapsed": 10219,
     "status": "ok",
     "timestamp": 1632684280345,
     "user": {
      "displayName": "Go Friday",
      "photoUrl": "https://lh3.googleusercontent.com/a/default-user=s64",
      "userId": "04257507274310331112"
     },
     "user_tz": -120
    },
    "id": "pGXx6DM9ijYX",
    "outputId": "668b329e-1237-4f09-9558-ab97f24a2682"
   },
   "outputs": [
    {
     "ename": "ValueError",
     "evalue": "\nImage export using the \"kaleido\" engine requires the kaleido package,\nwhich can be installed using pip:\n    $ pip install -U kaleido\n",
     "output_type": "error",
     "traceback": [
      "\u001b[0;31m---------------------------------------------------------------------------\u001b[0m",
      "\u001b[0;31mValueError\u001b[0m                                Traceback (most recent call last)",
      "Cell \u001b[0;32mIn[29], line 5\u001b[0m\n\u001b[1;32m      2\u001b[0m \u001b[38;5;28;01mfor\u001b[39;00m s,p,o \u001b[38;5;129;01min\u001b[39;00m graph\u001b[38;5;241m.\u001b[39mtriples((\u001b[38;5;28;01mNone\u001b[39;00m, \u001b[38;5;28;01mNone\u001b[39;00m, \u001b[38;5;28;01mNone\u001b[39;00m)):\n\u001b[1;32m      3\u001b[0m     pdeg[p] \u001b[38;5;241m+\u001b[39m\u001b[38;5;241m=\u001b[39m \u001b[38;5;241m1\u001b[39m\n\u001b[0;32m----> 5\u001b[0m iplot(\u001b[38;5;28mdict\u001b[39m(\n\u001b[1;32m      6\u001b[0m     data\u001b[38;5;241m=\u001b[39m[go\u001b[38;5;241m.\u001b[39mHistogram(x\u001b[38;5;241m=\u001b[39m[cnt \u001b[38;5;28;01mfor\u001b[39;00m cnt \u001b[38;5;129;01min\u001b[39;00m pdeg\u001b[38;5;241m.\u001b[39mvalues() \u001b[38;5;28;01mif\u001b[39;00m cnt \u001b[38;5;241m<\u001b[39m \u001b[38;5;241m1000\u001b[39m])],\n\u001b[1;32m      7\u001b[0m     layout\u001b[38;5;241m=\u001b[39mgo\u001b[38;5;241m.\u001b[39mLayout(\n\u001b[1;32m      8\u001b[0m         title\u001b[38;5;241m=\u001b[39m\u001b[38;5;124m'\u001b[39m\u001b[38;5;124mPredicate distribution\u001b[39m\u001b[38;5;124m'\u001b[39m,\n\u001b[1;32m      9\u001b[0m         xaxis\u001b[38;5;241m=\u001b[39m\u001b[38;5;28mdict\u001b[39m(\n\u001b[1;32m     10\u001b[0m             title\u001b[38;5;241m=\u001b[39m\u001b[38;5;124m'\u001b[39m\u001b[38;5;124mNumber of times the predicate is used\u001b[39m\u001b[38;5;124m'\u001b[39m),\n\u001b[1;32m     11\u001b[0m         yaxis\u001b[38;5;241m=\u001b[39m\u001b[38;5;28mdict\u001b[39m(\n\u001b[1;32m     12\u001b[0m             title\u001b[38;5;241m=\u001b[39m\u001b[38;5;124m'\u001b[39m\u001b[38;5;124mCount\u001b[39m\u001b[38;5;124m'\u001b[39m),\n\u001b[1;32m     13\u001b[0m )))\n",
      "File \u001b[0;32m~/Library/Mobile Documents/com~apple~CloudDocs/UZH-S3/Advanced topics of AI/Tutorials/.conda/lib/python3.11/site-packages/plotly/offline/offline.py:387\u001b[0m, in \u001b[0;36miplot\u001b[0;34m(figure_or_data, show_link, link_text, validate, image, filename, image_width, image_height, config, auto_play, animation_opts)\u001b[0m\n\u001b[1;32m    382\u001b[0m post_script \u001b[38;5;241m=\u001b[39m build_save_image_post_script(\n\u001b[1;32m    383\u001b[0m     image, filename, image_height, image_width, \u001b[38;5;124m\"\u001b[39m\u001b[38;5;124miplot\u001b[39m\u001b[38;5;124m\"\u001b[39m\n\u001b[1;32m    384\u001b[0m )\n\u001b[1;32m    386\u001b[0m \u001b[38;5;66;03m# Show figure\u001b[39;00m\n\u001b[0;32m--> 387\u001b[0m pio\u001b[38;5;241m.\u001b[39mshow(\n\u001b[1;32m    388\u001b[0m     figure,\n\u001b[1;32m    389\u001b[0m     validate\u001b[38;5;241m=\u001b[39mvalidate,\n\u001b[1;32m    390\u001b[0m     config\u001b[38;5;241m=\u001b[39mconfig,\n\u001b[1;32m    391\u001b[0m     auto_play\u001b[38;5;241m=\u001b[39mauto_play,\n\u001b[1;32m    392\u001b[0m     post_script\u001b[38;5;241m=\u001b[39mpost_script,\n\u001b[1;32m    393\u001b[0m     animation_opts\u001b[38;5;241m=\u001b[39manimation_opts,\n\u001b[1;32m    394\u001b[0m )\n",
      "File \u001b[0;32m~/Library/Mobile Documents/com~apple~CloudDocs/UZH-S3/Advanced topics of AI/Tutorials/.conda/lib/python3.11/site-packages/plotly/io/_renderers.py:386\u001b[0m, in \u001b[0;36mshow\u001b[0;34m(fig, renderer, validate, **kwargs)\u001b[0m\n\u001b[1;32m    383\u001b[0m fig_dict \u001b[38;5;241m=\u001b[39m validate_coerce_fig_to_dict(fig, validate)\n\u001b[1;32m    385\u001b[0m \u001b[38;5;66;03m# Mimetype renderers\u001b[39;00m\n\u001b[0;32m--> 386\u001b[0m bundle \u001b[38;5;241m=\u001b[39m renderers\u001b[38;5;241m.\u001b[39m_build_mime_bundle(fig_dict, renderers_string\u001b[38;5;241m=\u001b[39mrenderer, \u001b[38;5;241m*\u001b[39m\u001b[38;5;241m*\u001b[39mkwargs)\n\u001b[1;32m    387\u001b[0m \u001b[38;5;28;01mif\u001b[39;00m bundle:\n\u001b[1;32m    388\u001b[0m     \u001b[38;5;28;01mif\u001b[39;00m \u001b[38;5;129;01mnot\u001b[39;00m ipython_display:\n",
      "File \u001b[0;32m~/Library/Mobile Documents/com~apple~CloudDocs/UZH-S3/Advanced topics of AI/Tutorials/.conda/lib/python3.11/site-packages/plotly/io/_renderers.py:294\u001b[0m, in \u001b[0;36mRenderersConfig._build_mime_bundle\u001b[0;34m(self, fig_dict, renderers_string, **kwargs)\u001b[0m\n\u001b[1;32m    291\u001b[0m             \u001b[38;5;28;01mif\u001b[39;00m \u001b[38;5;28mhasattr\u001b[39m(renderer, k):\n\u001b[1;32m    292\u001b[0m                 \u001b[38;5;28msetattr\u001b[39m(renderer, k, v)\n\u001b[0;32m--> 294\u001b[0m         bundle\u001b[38;5;241m.\u001b[39mupdate(renderer\u001b[38;5;241m.\u001b[39mto_mimebundle(fig_dict))\n\u001b[1;32m    296\u001b[0m \u001b[38;5;28;01mreturn\u001b[39;00m bundle\n",
      "File \u001b[0;32m~/Library/Mobile Documents/com~apple~CloudDocs/UZH-S3/Advanced topics of AI/Tutorials/.conda/lib/python3.11/site-packages/plotly/io/_base_renderers.py:126\u001b[0m, in \u001b[0;36mImageRenderer.to_mimebundle\u001b[0;34m(self, fig_dict)\u001b[0m\n\u001b[1;32m    125\u001b[0m \u001b[38;5;28;01mdef\u001b[39;00m \u001b[38;5;21mto_mimebundle\u001b[39m(\u001b[38;5;28mself\u001b[39m, fig_dict):\n\u001b[0;32m--> 126\u001b[0m     image_bytes \u001b[38;5;241m=\u001b[39m to_image(\n\u001b[1;32m    127\u001b[0m         fig_dict,\n\u001b[1;32m    128\u001b[0m         \u001b[38;5;28mformat\u001b[39m\u001b[38;5;241m=\u001b[39m\u001b[38;5;28mself\u001b[39m\u001b[38;5;241m.\u001b[39mformat,\n\u001b[1;32m    129\u001b[0m         width\u001b[38;5;241m=\u001b[39m\u001b[38;5;28mself\u001b[39m\u001b[38;5;241m.\u001b[39mwidth,\n\u001b[1;32m    130\u001b[0m         height\u001b[38;5;241m=\u001b[39m\u001b[38;5;28mself\u001b[39m\u001b[38;5;241m.\u001b[39mheight,\n\u001b[1;32m    131\u001b[0m         scale\u001b[38;5;241m=\u001b[39m\u001b[38;5;28mself\u001b[39m\u001b[38;5;241m.\u001b[39mscale,\n\u001b[1;32m    132\u001b[0m         validate\u001b[38;5;241m=\u001b[39m\u001b[38;5;28;01mFalse\u001b[39;00m,\n\u001b[1;32m    133\u001b[0m         engine\u001b[38;5;241m=\u001b[39m\u001b[38;5;28mself\u001b[39m\u001b[38;5;241m.\u001b[39mengine,\n\u001b[1;32m    134\u001b[0m     )\n\u001b[1;32m    136\u001b[0m     \u001b[38;5;28;01mif\u001b[39;00m \u001b[38;5;28mself\u001b[39m\u001b[38;5;241m.\u001b[39mb64_encode:\n\u001b[1;32m    137\u001b[0m         image_str \u001b[38;5;241m=\u001b[39m base64\u001b[38;5;241m.\u001b[39mb64encode(image_bytes)\u001b[38;5;241m.\u001b[39mdecode(\u001b[38;5;124m\"\u001b[39m\u001b[38;5;124mutf8\u001b[39m\u001b[38;5;124m\"\u001b[39m)\n",
      "File \u001b[0;32m~/Library/Mobile Documents/com~apple~CloudDocs/UZH-S3/Advanced topics of AI/Tutorials/.conda/lib/python3.11/site-packages/plotly/io/_kaleido.py:132\u001b[0m, in \u001b[0;36mto_image\u001b[0;34m(fig, format, width, height, scale, validate, engine)\u001b[0m\n\u001b[1;32m    130\u001b[0m     \u001b[38;5;66;03m# Raise informative error message if Kaleido is not installed\u001b[39;00m\n\u001b[1;32m    131\u001b[0m     \u001b[38;5;28;01mif\u001b[39;00m scope \u001b[38;5;129;01mis\u001b[39;00m \u001b[38;5;28;01mNone\u001b[39;00m:\n\u001b[0;32m--> 132\u001b[0m         \u001b[38;5;28;01mraise\u001b[39;00m \u001b[38;5;167;01mValueError\u001b[39;00m(\n\u001b[1;32m    133\u001b[0m \u001b[38;5;250m            \u001b[39m\u001b[38;5;124;03m\"\"\"\u001b[39;00m\n\u001b[1;32m    134\u001b[0m \u001b[38;5;124;03mImage export using the \"kaleido\" engine requires the kaleido package,\u001b[39;00m\n\u001b[1;32m    135\u001b[0m \u001b[38;5;124;03mwhich can be installed using pip:\u001b[39;00m\n\u001b[1;32m    136\u001b[0m \u001b[38;5;124;03m    $ pip install -U kaleido\u001b[39;00m\n\u001b[1;32m    137\u001b[0m \u001b[38;5;124;03m\"\"\"\u001b[39;00m\n\u001b[1;32m    138\u001b[0m         )\n\u001b[1;32m    140\u001b[0m     \u001b[38;5;66;03m# Validate figure\u001b[39;00m\n\u001b[1;32m    141\u001b[0m     \u001b[38;5;66;03m# ---------------\u001b[39;00m\n\u001b[1;32m    142\u001b[0m     fig_dict \u001b[38;5;241m=\u001b[39m validate_coerce_fig_to_dict(fig, validate)\n",
      "\u001b[0;31mValueError\u001b[0m: \nImage export using the \"kaleido\" engine requires the kaleido package,\nwhich can be installed using pip:\n    $ pip install -U kaleido\n"
     ]
    }
   ],
   "source": [
    "pdeg = defaultdict(int)\n",
    "for s,p,o in graph.triples((None, None, None)):\n",
    "    pdeg[p] += 1\n",
    "\n",
    "iplot(dict(\n",
    "    data=[go.Histogram(x=[cnt for cnt in pdeg.values() if cnt < 1000])],\n",
    "    layout=go.Layout(\n",
    "        title='Predicate distribution',\n",
    "        xaxis=dict(\n",
    "            title='Number of times the predicate is used'),\n",
    "        yaxis=dict(\n",
    "            title='Count'),\n",
    ")))"
   ]
  },
  {
   "cell_type": "code",
   "execution_count": 13,
   "metadata": {
    "colab": {
     "base_uri": "https://localhost:8080/",
     "height": 297
    },
    "executionInfo": {
     "elapsed": 194,
     "status": "ok",
     "timestamp": 1632684297847,
     "user": {
      "displayName": "Go Friday",
      "photoUrl": "https://lh3.googleusercontent.com/a/default-user=s64",
      "userId": "04257507274310331112"
     },
     "user_tz": -120
    },
    "id": "zaTVdl84j3kc",
    "outputId": "6334b96a-7ccc-476e-bcc8-1d4c23831c06"
   },
   "outputs": [
    {
     "data": {
      "text/html": [
       "<div>\n",
       "<style scoped>\n",
       "    .dataframe tbody tr th:only-of-type {\n",
       "        vertical-align: middle;\n",
       "    }\n",
       "\n",
       "    .dataframe tbody tr th {\n",
       "        vertical-align: top;\n",
       "    }\n",
       "\n",
       "    .dataframe thead th {\n",
       "        text-align: right;\n",
       "    }\n",
       "</style>\n",
       "<table border=\"1\" class=\"dataframe\">\n",
       "  <thead>\n",
       "    <tr style=\"text-align: right;\">\n",
       "      <th></th>\n",
       "      <th>0</th>\n",
       "    </tr>\n",
       "  </thead>\n",
       "  <tbody>\n",
       "    <tr>\n",
       "      <th>count</th>\n",
       "      <td>255.000000</td>\n",
       "    </tr>\n",
       "    <tr>\n",
       "      <th>mean</th>\n",
       "      <td>8065.792157</td>\n",
       "    </tr>\n",
       "    <tr>\n",
       "      <th>std</th>\n",
       "      <td>28238.112826</td>\n",
       "    </tr>\n",
       "    <tr>\n",
       "      <th>min</th>\n",
       "      <td>29.000000</td>\n",
       "    </tr>\n",
       "    <tr>\n",
       "      <th>25%</th>\n",
       "      <td>94.500000</td>\n",
       "    </tr>\n",
       "    <tr>\n",
       "      <th>50%</th>\n",
       "      <td>537.000000</td>\n",
       "    </tr>\n",
       "    <tr>\n",
       "      <th>75%</th>\n",
       "      <td>2673.000000</td>\n",
       "    </tr>\n",
       "    <tr>\n",
       "      <th>max</th>\n",
       "      <td>288856.000000</td>\n",
       "    </tr>\n",
       "  </tbody>\n",
       "</table>\n",
       "</div>"
      ],
      "text/plain": [
       "                   0\n",
       "count     255.000000\n",
       "mean     8065.792157\n",
       "std     28238.112826\n",
       "min        29.000000\n",
       "25%        94.500000\n",
       "50%       537.000000\n",
       "75%      2673.000000\n",
       "max    288856.000000"
      ]
     },
     "execution_count": 13,
     "metadata": {},
     "output_type": "execute_result"
    }
   ],
   "source": [
    "pd.DataFrame(list(pdeg.values())).describe()"
   ]
  },
  {
   "cell_type": "markdown",
   "metadata": {
    "id": "kzYA3Ryzk3it"
   },
   "source": [
    "### 2.8 Entity types"
   ]
  },
  {
   "cell_type": "code",
   "execution_count": 14,
   "metadata": {
    "executionInfo": {
     "elapsed": 202,
     "status": "ok",
     "timestamp": 1632684321965,
     "user": {
      "displayName": "Go Friday",
      "photoUrl": "https://lh3.googleusercontent.com/a/default-user=s64",
      "userId": "04257507274310331112"
     },
     "user_tz": -120
    },
    "id": "1E8tkGhIkZ93"
   },
   "outputs": [],
   "source": [
    "roots = {\n",
    "    WD['Q8242']:        'literature',\n",
    "    WD['Q5']:           'human',\n",
    "    WD['Q483394']:      'genre',\n",
    "    WD['Q95074']:       'character',\n",
    "    WD['Q11424']:       'film',\n",
    "    WD['Q15416']:       'tv',\n",
    "    WD['Q618779']:      'award',\n",
    "    WD['Q27096213']:    'geographic',\n",
    "    WD['Q43229']:       'organisation',\n",
    "    WD['Q34770']:       'language',\n",
    "    WD['Q7725310']:     'series',\n",
    "    WD['Q47461344']:    'written work',\n",
    "}"
   ]
  },
  {
   "cell_type": "code",
   "execution_count": 15,
   "metadata": {
    "colab": {
     "base_uri": "https://localhost:8080/",
     "height": 542
    },
    "executionInfo": {
     "elapsed": 1277,
     "status": "ok",
     "timestamp": 1632684334120,
     "user": {
      "displayName": "Go Friday",
      "photoUrl": "https://lh3.googleusercontent.com/a/default-user=s64",
      "userId": "04257507274310331112"
     },
     "user_tz": -120
    },
    "id": "y43bhiMEkaqR",
    "outputId": "104efa58-9e3b-46bf-f444-958d05dbf73f"
   },
   "outputs": [
    {
     "data": {
      "application/vnd.plotly.v1+json": {
       "config": {
        "linkText": "Export to plot.ly",
        "plotlyServerURL": "https://plot.ly",
        "showLink": false
       },
       "data": [
        {
         "labels": [
          "other",
          "film",
          "human",
          "organisation",
          "written work",
          "character",
          "tv",
          "series",
          "award",
          "genre",
          "language"
         ],
         "type": "pie",
         "values": [
          26679,
          24458,
          100423,
          78,
          1016,
          202,
          20,
          9,
          134,
          35,
          179
         ]
        }
       ],
       "layout": {
        "template": {
         "data": {
          "bar": [
           {
            "error_x": {
             "color": "#2a3f5f"
            },
            "error_y": {
             "color": "#2a3f5f"
            },
            "marker": {
             "line": {
              "color": "#E5ECF6",
              "width": 0.5
             },
             "pattern": {
              "fillmode": "overlay",
              "size": 10,
              "solidity": 0.2
             }
            },
            "type": "bar"
           }
          ],
          "barpolar": [
           {
            "marker": {
             "line": {
              "color": "#E5ECF6",
              "width": 0.5
             },
             "pattern": {
              "fillmode": "overlay",
              "size": 10,
              "solidity": 0.2
             }
            },
            "type": "barpolar"
           }
          ],
          "carpet": [
           {
            "aaxis": {
             "endlinecolor": "#2a3f5f",
             "gridcolor": "white",
             "linecolor": "white",
             "minorgridcolor": "white",
             "startlinecolor": "#2a3f5f"
            },
            "baxis": {
             "endlinecolor": "#2a3f5f",
             "gridcolor": "white",
             "linecolor": "white",
             "minorgridcolor": "white",
             "startlinecolor": "#2a3f5f"
            },
            "type": "carpet"
           }
          ],
          "choropleth": [
           {
            "colorbar": {
             "outlinewidth": 0,
             "ticks": ""
            },
            "type": "choropleth"
           }
          ],
          "contour": [
           {
            "colorbar": {
             "outlinewidth": 0,
             "ticks": ""
            },
            "colorscale": [
             [
              0,
              "#0d0887"
             ],
             [
              0.1111111111111111,
              "#46039f"
             ],
             [
              0.2222222222222222,
              "#7201a8"
             ],
             [
              0.3333333333333333,
              "#9c179e"
             ],
             [
              0.4444444444444444,
              "#bd3786"
             ],
             [
              0.5555555555555556,
              "#d8576b"
             ],
             [
              0.6666666666666666,
              "#ed7953"
             ],
             [
              0.7777777777777778,
              "#fb9f3a"
             ],
             [
              0.8888888888888888,
              "#fdca26"
             ],
             [
              1,
              "#f0f921"
             ]
            ],
            "type": "contour"
           }
          ],
          "contourcarpet": [
           {
            "colorbar": {
             "outlinewidth": 0,
             "ticks": ""
            },
            "type": "contourcarpet"
           }
          ],
          "heatmap": [
           {
            "colorbar": {
             "outlinewidth": 0,
             "ticks": ""
            },
            "colorscale": [
             [
              0,
              "#0d0887"
             ],
             [
              0.1111111111111111,
              "#46039f"
             ],
             [
              0.2222222222222222,
              "#7201a8"
             ],
             [
              0.3333333333333333,
              "#9c179e"
             ],
             [
              0.4444444444444444,
              "#bd3786"
             ],
             [
              0.5555555555555556,
              "#d8576b"
             ],
             [
              0.6666666666666666,
              "#ed7953"
             ],
             [
              0.7777777777777778,
              "#fb9f3a"
             ],
             [
              0.8888888888888888,
              "#fdca26"
             ],
             [
              1,
              "#f0f921"
             ]
            ],
            "type": "heatmap"
           }
          ],
          "heatmapgl": [
           {
            "colorbar": {
             "outlinewidth": 0,
             "ticks": ""
            },
            "colorscale": [
             [
              0,
              "#0d0887"
             ],
             [
              0.1111111111111111,
              "#46039f"
             ],
             [
              0.2222222222222222,
              "#7201a8"
             ],
             [
              0.3333333333333333,
              "#9c179e"
             ],
             [
              0.4444444444444444,
              "#bd3786"
             ],
             [
              0.5555555555555556,
              "#d8576b"
             ],
             [
              0.6666666666666666,
              "#ed7953"
             ],
             [
              0.7777777777777778,
              "#fb9f3a"
             ],
             [
              0.8888888888888888,
              "#fdca26"
             ],
             [
              1,
              "#f0f921"
             ]
            ],
            "type": "heatmapgl"
           }
          ],
          "histogram": [
           {
            "marker": {
             "pattern": {
              "fillmode": "overlay",
              "size": 10,
              "solidity": 0.2
             }
            },
            "type": "histogram"
           }
          ],
          "histogram2d": [
           {
            "colorbar": {
             "outlinewidth": 0,
             "ticks": ""
            },
            "colorscale": [
             [
              0,
              "#0d0887"
             ],
             [
              0.1111111111111111,
              "#46039f"
             ],
             [
              0.2222222222222222,
              "#7201a8"
             ],
             [
              0.3333333333333333,
              "#9c179e"
             ],
             [
              0.4444444444444444,
              "#bd3786"
             ],
             [
              0.5555555555555556,
              "#d8576b"
             ],
             [
              0.6666666666666666,
              "#ed7953"
             ],
             [
              0.7777777777777778,
              "#fb9f3a"
             ],
             [
              0.8888888888888888,
              "#fdca26"
             ],
             [
              1,
              "#f0f921"
             ]
            ],
            "type": "histogram2d"
           }
          ],
          "histogram2dcontour": [
           {
            "colorbar": {
             "outlinewidth": 0,
             "ticks": ""
            },
            "colorscale": [
             [
              0,
              "#0d0887"
             ],
             [
              0.1111111111111111,
              "#46039f"
             ],
             [
              0.2222222222222222,
              "#7201a8"
             ],
             [
              0.3333333333333333,
              "#9c179e"
             ],
             [
              0.4444444444444444,
              "#bd3786"
             ],
             [
              0.5555555555555556,
              "#d8576b"
             ],
             [
              0.6666666666666666,
              "#ed7953"
             ],
             [
              0.7777777777777778,
              "#fb9f3a"
             ],
             [
              0.8888888888888888,
              "#fdca26"
             ],
             [
              1,
              "#f0f921"
             ]
            ],
            "type": "histogram2dcontour"
           }
          ],
          "mesh3d": [
           {
            "colorbar": {
             "outlinewidth": 0,
             "ticks": ""
            },
            "type": "mesh3d"
           }
          ],
          "parcoords": [
           {
            "line": {
             "colorbar": {
              "outlinewidth": 0,
              "ticks": ""
             }
            },
            "type": "parcoords"
           }
          ],
          "pie": [
           {
            "automargin": true,
            "type": "pie"
           }
          ],
          "scatter": [
           {
            "marker": {
             "colorbar": {
              "outlinewidth": 0,
              "ticks": ""
             }
            },
            "type": "scatter"
           }
          ],
          "scatter3d": [
           {
            "line": {
             "colorbar": {
              "outlinewidth": 0,
              "ticks": ""
             }
            },
            "marker": {
             "colorbar": {
              "outlinewidth": 0,
              "ticks": ""
             }
            },
            "type": "scatter3d"
           }
          ],
          "scattercarpet": [
           {
            "marker": {
             "colorbar": {
              "outlinewidth": 0,
              "ticks": ""
             }
            },
            "type": "scattercarpet"
           }
          ],
          "scattergeo": [
           {
            "marker": {
             "colorbar": {
              "outlinewidth": 0,
              "ticks": ""
             }
            },
            "type": "scattergeo"
           }
          ],
          "scattergl": [
           {
            "marker": {
             "colorbar": {
              "outlinewidth": 0,
              "ticks": ""
             }
            },
            "type": "scattergl"
           }
          ],
          "scattermapbox": [
           {
            "marker": {
             "colorbar": {
              "outlinewidth": 0,
              "ticks": ""
             }
            },
            "type": "scattermapbox"
           }
          ],
          "scatterpolar": [
           {
            "marker": {
             "colorbar": {
              "outlinewidth": 0,
              "ticks": ""
             }
            },
            "type": "scatterpolar"
           }
          ],
          "scatterpolargl": [
           {
            "marker": {
             "colorbar": {
              "outlinewidth": 0,
              "ticks": ""
             }
            },
            "type": "scatterpolargl"
           }
          ],
          "scatterternary": [
           {
            "marker": {
             "colorbar": {
              "outlinewidth": 0,
              "ticks": ""
             }
            },
            "type": "scatterternary"
           }
          ],
          "surface": [
           {
            "colorbar": {
             "outlinewidth": 0,
             "ticks": ""
            },
            "colorscale": [
             [
              0,
              "#0d0887"
             ],
             [
              0.1111111111111111,
              "#46039f"
             ],
             [
              0.2222222222222222,
              "#7201a8"
             ],
             [
              0.3333333333333333,
              "#9c179e"
             ],
             [
              0.4444444444444444,
              "#bd3786"
             ],
             [
              0.5555555555555556,
              "#d8576b"
             ],
             [
              0.6666666666666666,
              "#ed7953"
             ],
             [
              0.7777777777777778,
              "#fb9f3a"
             ],
             [
              0.8888888888888888,
              "#fdca26"
             ],
             [
              1,
              "#f0f921"
             ]
            ],
            "type": "surface"
           }
          ],
          "table": [
           {
            "cells": {
             "fill": {
              "color": "#EBF0F8"
             },
             "line": {
              "color": "white"
             }
            },
            "header": {
             "fill": {
              "color": "#C8D4E3"
             },
             "line": {
              "color": "white"
             }
            },
            "type": "table"
           }
          ]
         },
         "layout": {
          "annotationdefaults": {
           "arrowcolor": "#2a3f5f",
           "arrowhead": 0,
           "arrowwidth": 1
          },
          "autotypenumbers": "strict",
          "coloraxis": {
           "colorbar": {
            "outlinewidth": 0,
            "ticks": ""
           }
          },
          "colorscale": {
           "diverging": [
            [
             0,
             "#8e0152"
            ],
            [
             0.1,
             "#c51b7d"
            ],
            [
             0.2,
             "#de77ae"
            ],
            [
             0.3,
             "#f1b6da"
            ],
            [
             0.4,
             "#fde0ef"
            ],
            [
             0.5,
             "#f7f7f7"
            ],
            [
             0.6,
             "#e6f5d0"
            ],
            [
             0.7,
             "#b8e186"
            ],
            [
             0.8,
             "#7fbc41"
            ],
            [
             0.9,
             "#4d9221"
            ],
            [
             1,
             "#276419"
            ]
           ],
           "sequential": [
            [
             0,
             "#0d0887"
            ],
            [
             0.1111111111111111,
             "#46039f"
            ],
            [
             0.2222222222222222,
             "#7201a8"
            ],
            [
             0.3333333333333333,
             "#9c179e"
            ],
            [
             0.4444444444444444,
             "#bd3786"
            ],
            [
             0.5555555555555556,
             "#d8576b"
            ],
            [
             0.6666666666666666,
             "#ed7953"
            ],
            [
             0.7777777777777778,
             "#fb9f3a"
            ],
            [
             0.8888888888888888,
             "#fdca26"
            ],
            [
             1,
             "#f0f921"
            ]
           ],
           "sequentialminus": [
            [
             0,
             "#0d0887"
            ],
            [
             0.1111111111111111,
             "#46039f"
            ],
            [
             0.2222222222222222,
             "#7201a8"
            ],
            [
             0.3333333333333333,
             "#9c179e"
            ],
            [
             0.4444444444444444,
             "#bd3786"
            ],
            [
             0.5555555555555556,
             "#d8576b"
            ],
            [
             0.6666666666666666,
             "#ed7953"
            ],
            [
             0.7777777777777778,
             "#fb9f3a"
            ],
            [
             0.8888888888888888,
             "#fdca26"
            ],
            [
             1,
             "#f0f921"
            ]
           ]
          },
          "colorway": [
           "#636efa",
           "#EF553B",
           "#00cc96",
           "#ab63fa",
           "#FFA15A",
           "#19d3f3",
           "#FF6692",
           "#B6E880",
           "#FF97FF",
           "#FECB52"
          ],
          "font": {
           "color": "#2a3f5f"
          },
          "geo": {
           "bgcolor": "white",
           "lakecolor": "white",
           "landcolor": "#E5ECF6",
           "showlakes": true,
           "showland": true,
           "subunitcolor": "white"
          },
          "hoverlabel": {
           "align": "left"
          },
          "hovermode": "closest",
          "mapbox": {
           "style": "light"
          },
          "paper_bgcolor": "white",
          "plot_bgcolor": "#E5ECF6",
          "polar": {
           "angularaxis": {
            "gridcolor": "white",
            "linecolor": "white",
            "ticks": ""
           },
           "bgcolor": "#E5ECF6",
           "radialaxis": {
            "gridcolor": "white",
            "linecolor": "white",
            "ticks": ""
           }
          },
          "scene": {
           "xaxis": {
            "backgroundcolor": "#E5ECF6",
            "gridcolor": "white",
            "gridwidth": 2,
            "linecolor": "white",
            "showbackground": true,
            "ticks": "",
            "zerolinecolor": "white"
           },
           "yaxis": {
            "backgroundcolor": "#E5ECF6",
            "gridcolor": "white",
            "gridwidth": 2,
            "linecolor": "white",
            "showbackground": true,
            "ticks": "",
            "zerolinecolor": "white"
           },
           "zaxis": {
            "backgroundcolor": "#E5ECF6",
            "gridcolor": "white",
            "gridwidth": 2,
            "linecolor": "white",
            "showbackground": true,
            "ticks": "",
            "zerolinecolor": "white"
           }
          },
          "shapedefaults": {
           "line": {
            "color": "#2a3f5f"
           }
          },
          "ternary": {
           "aaxis": {
            "gridcolor": "white",
            "linecolor": "white",
            "ticks": ""
           },
           "baxis": {
            "gridcolor": "white",
            "linecolor": "white",
            "ticks": ""
           },
           "bgcolor": "#E5ECF6",
           "caxis": {
            "gridcolor": "white",
            "linecolor": "white",
            "ticks": ""
           }
          },
          "title": {
           "x": 0.05
          },
          "xaxis": {
           "automargin": true,
           "gridcolor": "white",
           "linecolor": "white",
           "ticks": "",
           "title": {
            "standoff": 15
           },
           "zerolinecolor": "white",
           "zerolinewidth": 2
          },
          "yaxis": {
           "automargin": true,
           "gridcolor": "white",
           "linecolor": "white",
           "ticks": "",
           "title": {
            "standoff": 15
           },
           "zerolinecolor": "white",
           "zerolinewidth": 2
          }
         }
        }
       }
      },
      "image/svg+xml": [
       "<svg class=\"main-svg\" xmlns=\"http://www.w3.org/2000/svg\" xmlns:xlink=\"http://www.w3.org/1999/xlink\" width=\"700\" height=\"500\" style=\"\" viewBox=\"0 0 700 500\"><rect x=\"0\" y=\"0\" width=\"700\" height=\"500\" style=\"fill: rgb(255, 255, 255); fill-opacity: 1;\"/><defs id=\"defs-9568c1\"><g class=\"clips\"/><g class=\"gradients\"/><g class=\"patterns\"/></defs><g class=\"bglayer\"/><g class=\"layer-below\"><g class=\"imagelayer\"/><g class=\"shapelayer\"/></g><g class=\"cartesianlayer\"/><g class=\"polarlayer\"/><g class=\"smithlayer\"/><g class=\"ternarylayer\"/><g class=\"geolayer\"/><g class=\"funnelarealayer\"/><g class=\"pielayer\"><g class=\"trace\" stroke-linejoin=\"round\" style=\"opacity: 1;\"><g class=\"slice\"><path class=\"surface\" d=\"M333.5,260l0,-160a160,160 0 1 1 -132.53679028904986,249.63257900940047Z\" style=\"pointer-events: all; stroke-width: 0; fill: rgb(99, 110, 250); fill-opacity: 1; stroke: rgb(68, 68, 68); stroke-opacity: 1;\"/><g class=\"slicetext\"><text data-notex=\"1\" class=\"slicetext\" transform=\"translate(404.09619783818556,302.0146427386959)\" text-anchor=\"middle\" x=\"0\" y=\"0\" style=\"font-family: 'Open Sans', verdana, arial, sans-serif; font-size: 12px; fill: rgb(255, 255, 255); fill-opacity: 1; white-space: pre;\">65.5%</text></g></g><g class=\"slice\"><path class=\"surface\" d=\"M333.5,260l-142.15142274310782,-73.43686412225298a160,160 0 0 1 142.15142274310782,-86.56313587774702Z\" style=\"pointer-events: all; stroke-width: 0; fill: rgb(239, 85, 59); fill-opacity: 1; stroke: rgb(68, 68, 68); stroke-opacity: 1;\"/><g class=\"slicetext\"><text data-notex=\"1\" class=\"slicetext\" transform=\"translate(278.69334774868156,174.60077152957265)\" text-anchor=\"middle\" x=\"0\" y=\"0\" style=\"font-family: 'Open Sans', verdana, arial, sans-serif; font-size: 12px; fill: rgb(68, 68, 68); fill-opacity: 1; white-space: pre;\">17.4%</text></g></g><g class=\"slice\"><path class=\"surface\" d=\"M333.5,260l-138.36902179314504,80.33687701179424a160,160 0 0 1 -3.7824009499627778,-153.7737411340472Z\" style=\"pointer-events: all; stroke-width: 0; fill: rgb(0, 204, 150); fill-opacity: 1; stroke: rgb(68, 68, 68); stroke-opacity: 1;\"/><g class=\"slicetext\"><text data-notex=\"1\" class=\"slicetext\" transform=\"translate(225.42013158667248,267.1571152128652)\" text-anchor=\"middle\" x=\"0\" y=\"0\" style=\"font-family: 'Open Sans', verdana, arial, sans-serif; font-size: 12px; fill: rgb(68, 68, 68); fill-opacity: 1; white-space: pre;\">16%</text></g></g><g class=\"slice\"><path class=\"surface\" d=\"M333.5,260l-134.90308275771528,86.02998467084032a160,160 0 0 1 -3.4659390354297557,-5.693107659046078Z\" style=\"pointer-events: all; stroke-width: 0; fill: rgb(171, 99, 250); fill-opacity: 1; stroke: rgb(68, 68, 68); stroke-opacity: 1;\"/><g class=\"slicetext\"><text data-notex=\"1\" class=\"slicetext\" transform=\"translate(172.19367465745444,349.9999622507257)\" text-anchor=\"middle\" x=\"0\" y=\"0\" style=\"font-family: 'Open Sans', verdana, arial, sans-serif; font-size: 12px; fill: rgb(42, 63, 95); fill-opacity: 1; white-space: pre;\">0.663%</text></g></g><g class=\"slice\"><path class=\"surface\" d=\"M333.5,260l-134.18589135389723,87.14440063228439a160,160 0 0 1 -0.7171914038180489,-1.1144159614440667Z\" style=\"pointer-events: all; stroke-width: 0; fill: rgb(255, 161, 90); fill-opacity: 1; stroke: rgb(68, 68, 68); stroke-opacity: 1;\"/><g class=\"slicetext\"><text data-notex=\"1\" class=\"slicetext\" transform=\"translate(174.31373412730656,366.9999622507257)\" text-anchor=\"middle\" x=\"0\" y=\"0\" style=\"font-family: 'Open Sans', verdana, arial, sans-serif; font-size: 12px; fill: rgb(42, 63, 95); fill-opacity: 1; white-space: pre;\">0.132%</text></g><path class=\"textline\" stroke-width=\"1.5\" d=\"M198.95435912730656,346.5879351997506V362.4999622507257h-4.25\" fill=\"none\" style=\"stroke: rgb(42, 63, 95); stroke-opacity: 1;\"/></g><g class=\"slice\"><path class=\"surface\" d=\"M333.5,260l-133.54266557371938,88.12693385943795a160,160 0 0 1 -0.6432257801778576,-0.9825332271535672Z\" style=\"pointer-events: all; stroke-width: 0; fill: rgb(25, 211, 243); fill-opacity: 1; stroke: rgb(68, 68, 68); stroke-opacity: 1;\"/><g class=\"slicetext\"><text data-notex=\"1\" class=\"slicetext\" transform=\"translate(174.99419509304425,383.9999622507257)\" text-anchor=\"middle\" x=\"0\" y=\"0\" style=\"font-family: 'Open Sans', verdana, arial, sans-serif; font-size: 12px; fill: rgb(42, 63, 95); fill-opacity: 1; white-space: pre;\">0.117%</text></g><path class=\"textline\" stroke-width=\"1.5\" d=\"M199.63482009304425,347.6362573851621V379.4999622507257h-4.25\" fill=\"none\" style=\"stroke: rgb(42, 63, 95); stroke-opacity: 1;\"/></g><g class=\"slice\"><path class=\"surface\" d=\"M333.5,260l-133.05643407737983,88.85935713593628a160,160 0 0 1 -0.486231496339542,-0.7324232764983236Z\" style=\"pointer-events: all; stroke-width: 0; fill: rgb(255, 102, 146); fill-opacity: 1; stroke: rgb(68, 68, 68); stroke-opacity: 1;\"/><g class=\"slicetext\"><text data-notex=\"1\" class=\"slicetext\" transform=\"translate(172.1374471318253,400.9999622507257)\" text-anchor=\"middle\" x=\"0\" y=\"0\" style=\"font-family: 'Open Sans', verdana, arial, sans-serif; font-size: 12px; fill: rgb(42, 63, 95); fill-opacity: 1; white-space: pre;\">0.0874%</text></g><path class=\"textline\" stroke-width=\"1.5\" d=\"M200.1999471318253,348.4934794509846V396.4999622507257h-4.25\" fill=\"none\" style=\"stroke: rgb(42, 63, 95); stroke-opacity: 1;\"/></g><g class=\"slice\"><path class=\"surface\" d=\"M333.5,260l-132.77155320325807,89.28445923000493a160,160 0 0 1 -0.2848808741217681,-0.42510209406864874Z\" style=\"pointer-events: all; stroke-width: 0; fill: rgb(182, 232, 128); fill-opacity: 1; stroke: rgb(68, 68, 68); stroke-opacity: 1;\"/><g class=\"slicetext\"><text data-notex=\"1\" class=\"slicetext\" transform=\"translate(172.52333640797966,417.9999622507257)\" text-anchor=\"middle\" x=\"0\" y=\"0\" style=\"font-family: 'Open Sans', verdana, arial, sans-serif; font-size: 12px; fill: rgb(42, 63, 95); fill-opacity: 1; white-space: pre;\">0.0509%</text></g><path class=\"textline\" stroke-width=\"1.5\" d=\"M200.58583640797966,349.0720220755859V413.4999622507257h-4.25\" fill=\"none\" style=\"stroke: rgb(42, 63, 95); stroke-opacity: 1;\"/></g><g class=\"slice\"><path class=\"surface\" d=\"M333.5,260l-132.64328042255113,89.47491357215421a160,160 0 0 1 -0.12827278070693637,-0.19045434214928036Z\" style=\"pointer-events: all; stroke-width: 0; fill: rgb(255, 151, 255); fill-opacity: 1; stroke: rgb(68, 68, 68); stroke-opacity: 1;\"/><g class=\"slicetext\"><text data-notex=\"1\" class=\"slicetext\" transform=\"translate(172.730049020908,434.9999622507257)\" text-anchor=\"middle\" x=\"0\" y=\"0\" style=\"font-family: 'Open Sans', verdana, arial, sans-serif; font-size: 12px; fill: rgb(42, 63, 95); fill-opacity: 1; white-space: pre;\">0.0228%</text></g><path class=\"textline\" stroke-width=\"1.5\" d=\"M200.792549020908,349.37970941232635V430.4999622507257h-4.25\" fill=\"none\" style=\"stroke: rgb(42, 63, 95); stroke-opacity: 1;\"/></g><g class=\"slice\"><path class=\"surface\" d=\"M333.5,260l-132.5698590137395,89.58366190928585a160,160 0 0 1 -0.07342140881164028,-0.10874833713164378Z\" style=\"pointer-events: all; stroke-width: 0; fill: rgb(254, 203, 82); fill-opacity: 1; stroke: rgb(68, 68, 68); stroke-opacity: 1;\"/><g class=\"slicetext\"><text data-notex=\"1\" class=\"slicetext\" transform=\"translate(172.8309191340281,451.9999622507257)\" text-anchor=\"middle\" x=\"0\" y=\"0\" style=\"font-family: 'Open Sans', verdana, arial, sans-serif; font-size: 12px; fill: rgb(42, 63, 95); fill-opacity: 1; white-space: pre;\">0.0131%</text></g><path class=\"textline\" stroke-width=\"1.5\" d=\"M200.8934191340281,349.52929526717196V447.4999622507257h-4.25\" fill=\"none\" style=\"stroke: rgb(42, 63, 95); stroke-opacity: 1;\"/></g><g class=\"slice\"><path class=\"surface\" d=\"M333.5,260l-132.5367902890498,89.63257900940053a160,160 0 0 1 -0.03306872468968436,-0.04891710011467865Z\" style=\"pointer-events: all; stroke-width: 0; fill: rgb(198, 202, 253); fill-opacity: 1; stroke: rgb(68, 68, 68); stroke-opacity: 1;\"/><g class=\"slicetext\"><text data-notex=\"1\" class=\"slicetext\" transform=\"translate(169.44667309207702,468.9999622507257)\" text-anchor=\"middle\" x=\"0\" y=\"0\" style=\"font-family: 'Open Sans', verdana, arial, sans-serif; font-size: 12px; fill: rgb(42, 63, 95); fill-opacity: 1; white-space: pre;\">0.00587%</text></g><path class=\"textline\" stroke-width=\"1.5\" d=\"M200.94667309207702,349.60812198479164V464.4999622507257h-4.25\" fill=\"none\" style=\"stroke: rgb(42, 63, 95); stroke-opacity: 1;\"/></g></g></g><g class=\"iciclelayer\"/><g class=\"treemaplayer\"/><g class=\"sunburstlayer\"/><g class=\"glimages\"/><defs id=\"topdefs-9568c1\"><g class=\"clips\"/><clipPath id=\"legend9568c1\"><rect width=\"117\" height=\"219\" x=\"0\" y=\"0\"/></clipPath></defs><g class=\"layer-above\"><g class=\"imagelayer\"/><g class=\"shapelayer\"/></g><g class=\"infolayer\"><g class=\"legend\" pointer-events=\"all\" transform=\"translate(571.14,100)\"><rect class=\"bg\" shape-rendering=\"crispEdges\" style=\"stroke: rgb(68, 68, 68); stroke-opacity: 1; fill: rgb(255, 255, 255); fill-opacity: 1; stroke-width: 0px;\" width=\"117\" height=\"219\" x=\"0\" y=\"0\"/><g class=\"scrollbox\" transform=\"\" clip-path=\"url(#legend9568c1)\"><g class=\"groups\"><g class=\"traces\" transform=\"translate(0,14.5)\" style=\"opacity: 1;\"><text class=\"legendtext\" text-anchor=\"start\" x=\"40\" y=\"4.680000000000001\" style=\"font-family: 'Open Sans', verdana, arial, sans-serif; font-size: 12px; fill: rgb(42, 63, 95); fill-opacity: 1; white-space: pre;\">human</text><g class=\"layers\" style=\"opacity: 1;\"><g class=\"legendfill\"/><g class=\"legendlines\"/><g class=\"legendsymbols\"><g class=\"legendpoints\"><path class=\"legendpie\" d=\"M6,6H-6V-6H6Z\" transform=\"translate(20,0)\" style=\"stroke-width: 0; fill: rgb(99, 110, 250); fill-opacity: 1; stroke: rgb(68, 68, 68); stroke-opacity: 1;\"/></g></g></g><rect class=\"legendtoggle\" x=\"0\" y=\"-9.5\" width=\"111.4375\" height=\"19\" style=\"fill: rgb(0, 0, 0); fill-opacity: 0;\"/></g><g class=\"traces\" transform=\"translate(0,33.5)\" style=\"opacity: 1;\"><text class=\"legendtext\" text-anchor=\"start\" x=\"40\" y=\"4.680000000000001\" style=\"font-family: 'Open Sans', verdana, arial, sans-serif; font-size: 12px; fill: rgb(42, 63, 95); fill-opacity: 1; white-space: pre;\">other</text><g class=\"layers\" style=\"opacity: 1;\"><g class=\"legendfill\"/><g class=\"legendlines\"/><g class=\"legendsymbols\"><g class=\"legendpoints\"><path class=\"legendpie\" d=\"M6,6H-6V-6H6Z\" transform=\"translate(20,0)\" style=\"stroke-width: 0; fill: rgb(239, 85, 59); fill-opacity: 1; stroke: rgb(68, 68, 68); stroke-opacity: 1;\"/></g></g></g><rect class=\"legendtoggle\" x=\"0\" y=\"-9.5\" width=\"111.4375\" height=\"19\" style=\"fill: rgb(0, 0, 0); fill-opacity: 0;\"/></g><g class=\"traces\" transform=\"translate(0,52.5)\" style=\"opacity: 1;\"><text class=\"legendtext\" text-anchor=\"start\" x=\"40\" y=\"4.680000000000001\" style=\"font-family: 'Open Sans', verdana, arial, sans-serif; font-size: 12px; fill: rgb(42, 63, 95); fill-opacity: 1; white-space: pre;\">film</text><g class=\"layers\" style=\"opacity: 1;\"><g class=\"legendfill\"/><g class=\"legendlines\"/><g class=\"legendsymbols\"><g class=\"legendpoints\"><path class=\"legendpie\" d=\"M6,6H-6V-6H6Z\" transform=\"translate(20,0)\" style=\"stroke-width: 0; fill: rgb(0, 204, 150); fill-opacity: 1; stroke: rgb(68, 68, 68); stroke-opacity: 1;\"/></g></g></g><rect class=\"legendtoggle\" x=\"0\" y=\"-9.5\" width=\"111.4375\" height=\"19\" style=\"fill: rgb(0, 0, 0); fill-opacity: 0;\"/></g><g class=\"traces\" transform=\"translate(0,71.5)\" style=\"opacity: 1;\"><text class=\"legendtext\" text-anchor=\"start\" x=\"40\" y=\"4.680000000000001\" style=\"font-family: 'Open Sans', verdana, arial, sans-serif; font-size: 12px; fill: rgb(42, 63, 95); fill-opacity: 1; white-space: pre;\">written work</text><g class=\"layers\" style=\"opacity: 1;\"><g class=\"legendfill\"/><g class=\"legendlines\"/><g class=\"legendsymbols\"><g class=\"legendpoints\"><path class=\"legendpie\" d=\"M6,6H-6V-6H6Z\" transform=\"translate(20,0)\" style=\"stroke-width: 0; fill: rgb(171, 99, 250); fill-opacity: 1; stroke: rgb(68, 68, 68); stroke-opacity: 1;\"/></g></g></g><rect class=\"legendtoggle\" x=\"0\" y=\"-9.5\" width=\"111.4375\" height=\"19\" style=\"fill: rgb(0, 0, 0); fill-opacity: 0;\"/></g><g class=\"traces\" transform=\"translate(0,90.5)\" style=\"opacity: 1;\"><text class=\"legendtext\" text-anchor=\"start\" x=\"40\" y=\"4.680000000000001\" style=\"font-family: 'Open Sans', verdana, arial, sans-serif; font-size: 12px; fill: rgb(42, 63, 95); fill-opacity: 1; white-space: pre;\">character</text><g class=\"layers\" style=\"opacity: 1;\"><g class=\"legendfill\"/><g class=\"legendlines\"/><g class=\"legendsymbols\"><g class=\"legendpoints\"><path class=\"legendpie\" d=\"M6,6H-6V-6H6Z\" transform=\"translate(20,0)\" style=\"stroke-width: 0; fill: rgb(255, 161, 90); fill-opacity: 1; stroke: rgb(68, 68, 68); stroke-opacity: 1;\"/></g></g></g><rect class=\"legendtoggle\" x=\"0\" y=\"-9.5\" width=\"111.4375\" height=\"19\" style=\"fill: rgb(0, 0, 0); fill-opacity: 0;\"/></g><g class=\"traces\" transform=\"translate(0,109.5)\" style=\"opacity: 1;\"><text class=\"legendtext\" text-anchor=\"start\" x=\"40\" y=\"4.680000000000001\" style=\"font-family: 'Open Sans', verdana, arial, sans-serif; font-size: 12px; fill: rgb(42, 63, 95); fill-opacity: 1; white-space: pre;\">language</text><g class=\"layers\" style=\"opacity: 1;\"><g class=\"legendfill\"/><g class=\"legendlines\"/><g class=\"legendsymbols\"><g class=\"legendpoints\"><path class=\"legendpie\" d=\"M6,6H-6V-6H6Z\" transform=\"translate(20,0)\" style=\"stroke-width: 0; fill: rgb(25, 211, 243); fill-opacity: 1; stroke: rgb(68, 68, 68); stroke-opacity: 1;\"/></g></g></g><rect class=\"legendtoggle\" x=\"0\" y=\"-9.5\" width=\"111.4375\" height=\"19\" style=\"fill: rgb(0, 0, 0); fill-opacity: 0;\"/></g><g class=\"traces\" transform=\"translate(0,128.5)\" style=\"opacity: 1;\"><text class=\"legendtext\" text-anchor=\"start\" x=\"40\" y=\"4.680000000000001\" style=\"font-family: 'Open Sans', verdana, arial, sans-serif; font-size: 12px; fill: rgb(42, 63, 95); fill-opacity: 1; white-space: pre;\">award</text><g class=\"layers\" style=\"opacity: 1;\"><g class=\"legendfill\"/><g class=\"legendlines\"/><g class=\"legendsymbols\"><g class=\"legendpoints\"><path class=\"legendpie\" d=\"M6,6H-6V-6H6Z\" transform=\"translate(20,0)\" style=\"stroke-width: 0; fill: rgb(255, 102, 146); fill-opacity: 1; stroke: rgb(68, 68, 68); stroke-opacity: 1;\"/></g></g></g><rect class=\"legendtoggle\" x=\"0\" y=\"-9.5\" width=\"111.4375\" height=\"19\" style=\"fill: rgb(0, 0, 0); fill-opacity: 0;\"/></g><g class=\"traces\" transform=\"translate(0,147.5)\" style=\"opacity: 1;\"><text class=\"legendtext\" text-anchor=\"start\" x=\"40\" y=\"4.680000000000001\" style=\"font-family: 'Open Sans', verdana, arial, sans-serif; font-size: 12px; fill: rgb(42, 63, 95); fill-opacity: 1; white-space: pre;\">organisation</text><g class=\"layers\" style=\"opacity: 1;\"><g class=\"legendfill\"/><g class=\"legendlines\"/><g class=\"legendsymbols\"><g class=\"legendpoints\"><path class=\"legendpie\" d=\"M6,6H-6V-6H6Z\" transform=\"translate(20,0)\" style=\"stroke-width: 0; fill: rgb(182, 232, 128); fill-opacity: 1; stroke: rgb(68, 68, 68); stroke-opacity: 1;\"/></g></g></g><rect class=\"legendtoggle\" x=\"0\" y=\"-9.5\" width=\"111.4375\" height=\"19\" style=\"fill: rgb(0, 0, 0); fill-opacity: 0;\"/></g><g class=\"traces\" transform=\"translate(0,166.5)\" style=\"opacity: 1;\"><text class=\"legendtext\" text-anchor=\"start\" x=\"40\" y=\"4.680000000000001\" style=\"font-family: 'Open Sans', verdana, arial, sans-serif; font-size: 12px; fill: rgb(42, 63, 95); fill-opacity: 1; white-space: pre;\">genre</text><g class=\"layers\" style=\"opacity: 1;\"><g class=\"legendfill\"/><g class=\"legendlines\"/><g class=\"legendsymbols\"><g class=\"legendpoints\"><path class=\"legendpie\" d=\"M6,6H-6V-6H6Z\" transform=\"translate(20,0)\" style=\"stroke-width: 0; fill: rgb(255, 151, 255); fill-opacity: 1; stroke: rgb(68, 68, 68); stroke-opacity: 1;\"/></g></g></g><rect class=\"legendtoggle\" x=\"0\" y=\"-9.5\" width=\"111.4375\" height=\"19\" style=\"fill: rgb(0, 0, 0); fill-opacity: 0;\"/></g><g class=\"traces\" transform=\"translate(0,185.5)\" style=\"opacity: 1;\"><text class=\"legendtext\" text-anchor=\"start\" x=\"40\" y=\"4.680000000000001\" style=\"font-family: 'Open Sans', verdana, arial, sans-serif; font-size: 12px; fill: rgb(42, 63, 95); fill-opacity: 1; white-space: pre;\">tv</text><g class=\"layers\" style=\"opacity: 1;\"><g class=\"legendfill\"/><g class=\"legendlines\"/><g class=\"legendsymbols\"><g class=\"legendpoints\"><path class=\"legendpie\" d=\"M6,6H-6V-6H6Z\" transform=\"translate(20,0)\" style=\"stroke-width: 0; fill: rgb(254, 203, 82); fill-opacity: 1; stroke: rgb(68, 68, 68); stroke-opacity: 1;\"/></g></g></g><rect class=\"legendtoggle\" x=\"0\" y=\"-9.5\" width=\"111.4375\" height=\"19\" style=\"fill: rgb(0, 0, 0); fill-opacity: 0;\"/></g><g class=\"traces\" transform=\"translate(0,204.5)\" style=\"opacity: 1;\"><text class=\"legendtext\" text-anchor=\"start\" x=\"40\" y=\"4.680000000000001\" style=\"font-family: 'Open Sans', verdana, arial, sans-serif; font-size: 12px; fill: rgb(42, 63, 95); fill-opacity: 1; white-space: pre;\">series</text><g class=\"layers\" style=\"opacity: 1;\"><g class=\"legendfill\"/><g class=\"legendlines\"/><g class=\"legendsymbols\"><g class=\"legendpoints\"><path class=\"legendpie\" d=\"M6,6H-6V-6H6Z\" transform=\"translate(20,0)\" style=\"stroke-width: 0; fill: rgb(198, 202, 253); fill-opacity: 1; stroke: rgb(68, 68, 68); stroke-opacity: 1;\"/></g></g></g><rect class=\"legendtoggle\" x=\"0\" y=\"-9.5\" width=\"111.4375\" height=\"19\" style=\"fill: rgb(0, 0, 0); fill-opacity: 0;\"/></g></g></g><rect class=\"scrollbar\" rx=\"20\" ry=\"3\" width=\"0\" height=\"0\" style=\"fill: rgb(128, 139, 164); fill-opacity: 1;\" x=\"0\" y=\"0\"/></g><g class=\"g-gtitle\"/></g></svg>"
      ]
     },
     "metadata": {},
     "output_type": "display_data"
    }
   ],
   "source": [
    "# Histogram w.r.t what's in the actual published graph\n",
    "ecats = defaultdict(set)\n",
    "for s, o in graph.subject_objects(WDT.P31):\n",
    "    c = roots.get(o, 'other')\n",
    "    ecats[c].add(s)\n",
    "\n",
    "chist = {c: len(ents) for c, ents in ecats.items()}\n",
    "labels, values = zip(*chist.items())\n",
    "iplot(dict(data=[go.Pie(labels=labels, values=values)]))"
   ]
  },
  {
   "cell_type": "markdown",
   "metadata": {
    "id": "L9xzeSuXk5eK"
   },
   "source": [
    "## 3. SPARQL query examples"
   ]
  },
  {
   "cell_type": "code",
   "execution_count": 31,
   "metadata": {
    "colab": {
     "base_uri": "https://localhost:8080/"
    },
    "executionInfo": {
     "elapsed": 994,
     "status": "ok",
     "timestamp": 1632684490577,
     "user": {
      "displayName": "Go Friday",
      "photoUrl": "https://lh3.googleusercontent.com/a/default-user=s64",
      "userId": "04257507274310331112"
     },
     "user_tz": -120
    },
    "id": "SuzfaDP6k9hH",
    "outputId": "272071d0-f72c-490a-8483-553217ffa3c1"
   },
   "outputs": [
    {
     "data": {
      "text/plain": [
       "['Forrest Gump',\n",
       " 'The Lord of the Rings: The Fellowship of the Ring',\n",
       " 'Heart of a Dog',\n",
       " 'Kannathil Muthamittal',\n",
       " 'Once Upon a Time in America',\n",
       " 'Oldboy',\n",
       " 'The Great Dictator',\n",
       " 'Apocalypse Now',\n",
       " 'The Shining',\n",
       " 'The Cranes Are Flying',\n",
       " 'Shwaas',\n",
       " 'Khosla Ka Ghosla',\n",
       " 'Inglourious Basterds',\n",
       " 'Good Will Hunting',\n",
       " 'Full Metal Jacket',\n",
       " 'The Ascent',\n",
       " 'War and Peace',\n",
       " '2001: A Space Odyssey',\n",
       " 'Scarface',\n",
       " 'Star Wars: Episode VI – Return of the Jedi']"
      ]
     },
     "execution_count": 31,
     "metadata": {},
     "output_type": "execute_result"
    }
   ],
   "source": [
    "# top user-rated movies\n",
    "[str(s) for s, in graph.query('''\n",
    "    PREFIX ddis: <http://ddis.ch/atai/> \n",
    "    PREFIX wd: <http://www.wikidata.org/entity/> \n",
    "    PREFIX wdt: <http://www.wikidata.org/prop/direct/> \n",
    "    PREFIX schema: <http://schema.org/> \n",
    "    \n",
    "    SELECT ?lbl WHERE {\n",
    "        SELECT ?movie ?lbl ?rating WHERE {\n",
    "            ?movie wdt:P31 wd:Q11424 .\n",
    "            ?movie ddis:rating ?rating .\n",
    "            ?movie rdfs:label ?lbl .\n",
    "        }\n",
    "        ORDER BY DESC(?rating) \n",
    "        LIMIT 20\n",
    "    }\n",
    "    ''')]"
   ]
  },
  {
   "cell_type": "code",
   "execution_count": 17,
   "metadata": {
    "colab": {
     "base_uri": "https://localhost:8080/"
    },
    "executionInfo": {
     "elapsed": 995,
     "status": "ok",
     "timestamp": 1632684554977,
     "user": {
      "displayName": "Go Friday",
      "photoUrl": "https://lh3.googleusercontent.com/a/default-user=s64",
      "userId": "04257507274310331112"
     },
     "user_tz": -120
    },
    "id": "ECo050zYk_5A",
    "outputId": "6543c404-1ee4-42ae-810e-e59ba3c587aa"
   },
   "outputs": [
    {
     "data": {
      "text/plain": [
       "['Vampire Assassin',\n",
       " 'Vampires vs. Zombies',\n",
       " 'Aag',\n",
       " 'Joystick Nation – Generation Hip Hop',\n",
       " 'Going Overboard',\n",
       " \"Alex l'ariete\",\n",
       " 'House of the Dead',\n",
       " 'Killers',\n",
       " \"Ghosts Can't Do It\",\n",
       " 'Snakes on a Train']"
      ]
     },
     "execution_count": 17,
     "metadata": {},
     "output_type": "execute_result"
    }
   ],
   "source": [
    "# bottom user-rated movies\n",
    "[str(s) for s, in graph.query('''\n",
    "    PREFIX ddis: <http://ddis.ch/atai/> \n",
    "    PREFIX wd: <http://www.wikidata.org/entity/> \n",
    "    PREFIX wdt: <http://www.wikidata.org/prop/direct/> \n",
    "    PREFIX schema: <http://schema.org/> \n",
    "    \n",
    "    SELECT ?lbl WHERE {\n",
    "        SELECT ?movie ?lbl ?rating WHERE {\n",
    "            ?movie wdt:P31 wd:Q11424 .\n",
    "            ?movie ddis:rating ?rating .\n",
    "            ?movie rdfs:label ?lbl .\n",
    "        }\n",
    "        ORDER BY ASC(?rating) \n",
    "        LIMIT 10\n",
    "    }\n",
    "    ''')]"
   ]
  },
  {
   "cell_type": "code",
   "execution_count": 18,
   "metadata": {
    "colab": {
     "base_uri": "https://localhost:8080/"
    },
    "executionInfo": {
     "elapsed": 211,
     "status": "ok",
     "timestamp": 1632684739494,
     "user": {
      "displayName": "Go Friday",
      "photoUrl": "https://lh3.googleusercontent.com/a/default-user=s64",
      "userId": "04257507274310331112"
     },
     "user_tz": -120
    },
    "id": "FvVF-ouIlyxB",
    "outputId": "554b4243-c2d1-4c08-8446-e6ec37beb34a"
   },
   "outputs": [
    {
     "name": "stdout",
     "output_type": "stream",
     "text": [
      "First tuple: (rdflib.term.URIRef('http://www.wikidata.org/entity/Q182692'), rdflib.term.Literal('8.4', datatype=rdflib.term.URIRef('http://www.w3.org/2001/XMLSchema#decimal')), rdflib.term.Literal('1979-05-10', datatype=rdflib.term.URIRef('http://www.w3.org/2001/XMLSchema#date')), rdflib.term.Literal('Francis Ford Coppola', lang='en'))\n",
      "------------\n",
      "http://www.wikidata.org/entity/Q182692\n",
      "8.4\n",
      "1979-05-10\n",
      "Francis Ford Coppola\n"
     ]
    }
   ],
   "source": [
    "# some info about a Apocalypse Now\n",
    "\n",
    "header = '''\n",
    "    PREFIX ddis: <http://ddis.ch/atai/>\n",
    "    PREFIX wd: <http://www.wikidata.org/entity/>\n",
    "    PREFIX wdt: <http://www.wikidata.org/prop/direct/>\n",
    "    PREFIX schema: <http://schema.org/>\n",
    "'''\n",
    "\n",
    "tuple_list = list(graph.query(header + '''\n",
    "    SELECT * WHERE {\n",
    "        ?movie rdfs:label \"Apocalypse Now\"@en .\n",
    "        ?movie wdt:P57/rdfs:label ?director .\n",
    "        OPTIONAL { ?movie ddis:rating ?rating } .\n",
    "        OPTIONAL { ?movie wdt:P577 ?value}\n",
    "    }\n",
    "    '''))\n",
    "\n",
    "first_tuple = tuple_list[0]\n",
    "\n",
    "print(f\"First tuple: {first_tuple}\")\n",
    "print('------------')\n",
    "\n",
    "for elements in first_tuple:\n",
    "    print(elements)"
   ]
  },
  {
   "cell_type": "code",
   "execution_count": 19,
   "metadata": {},
   "outputs": [
    {
     "name": "stdout",
     "output_type": "stream",
     "text": [
      "Jan Dara has no rating 😔\n",
      "Queens of Langkasuka has no rating 😔\n",
      "Three has no rating 😔\n",
      "Moondram Pirai has no rating 😔\n",
      "Buffalo Bill and the Indians, or Sitting Bull's History Lesson has no rating 😔\n",
      "Dr. T & the Women has no rating 😔\n",
      "McCabe & Mrs. Miller has a rating of 7.7 ⭐️\n",
      "Nashville has no rating 😔\n",
      "Fool for Love has a rating of 6.1 ⭐️\n",
      "The Gingerbread Man has a rating of 5.7 ⭐️\n"
     ]
    }
   ],
   "source": [
    "# dealing with optional parameters\n",
    "tuple_list = list(graph.query(header + '''\n",
    "    SELECT ?lbl ?rating WHERE {\n",
    "        ?movie rdfs:label ?lbl .\n",
    "        ?movie wdt:P57/rdfs:label ?director .\n",
    "        OPTIONAL { ?movie ddis:rating ?rating } .\n",
    "        OPTIONAL { ?movie wdt:P577 ?value}\n",
    "    }\n",
    "    LIMIT 10\n",
    "    '''))\n",
    "\n",
    "# unpacking the tuple in the loop\n",
    "for (movie_label, rating) in tuple_list:\n",
    "    if rating:\n",
    "        print(f\"{movie_label} has a rating of {rating} ⭐️\")\n",
    "    else:\n",
    "        print(f\"{movie_label} has no rating 😔\")"
   ]
  },
  {
   "cell_type": "code",
   "execution_count": 20,
   "metadata": {
    "colab": {
     "base_uri": "https://localhost:8080/"
    },
    "executionInfo": {
     "elapsed": 201,
     "status": "ok",
     "timestamp": 1632684764597,
     "user": {
      "displayName": "Go Friday",
      "photoUrl": "https://lh3.googleusercontent.com/a/default-user=s64",
      "userId": "04257507274310331112"
     },
     "user_tz": -120
    },
    "id": "xZMdf1NClTWp",
    "outputId": "ba4054ee-0ba4-4f14-b6b9-3d5a4632348d"
   },
   "outputs": [
    {
     "data": {
      "text/plain": [
       "['Time Bandits',\n",
       " 'Tideland',\n",
       " \"Monty Python's The Meaning of Life\",\n",
       " 'Brazil',\n",
       " 'The Wholly Family',\n",
       " 'The Fisher King',\n",
       " 'The Imaginarium of Doctor Parnassus',\n",
       " 'The Zero Theorem',\n",
       " 'The Adventures of Baron Munchausen',\n",
       " 'Jabberwocky',\n",
       " '12 Monkeys',\n",
       " 'The Man Who Killed Don Quixote',\n",
       " 'The Brothers Grimm',\n",
       " 'Fear and Loathing in Las Vegas',\n",
       " 'Monty Python and the Holy Grail']"
      ]
     },
     "execution_count": 20,
     "metadata": {},
     "output_type": "execute_result"
    }
   ],
   "source": [
    "# all movies directed by Terry Gilliam\n",
    "[str(s) for s,  in graph.query('''\n",
    "    PREFIX ddis: <http://ddis.ch/atai/> \n",
    "    PREFIX wd: <http://www.wikidata.org/entity/> \n",
    "    PREFIX wdt: <http://www.wikidata.org/prop/direct/> \n",
    "    PREFIX schema: <http://schema.org/> \n",
    "    \n",
    "    SELECT ?lbl WHERE {\n",
    "        ?director rdfs:label \"Terry Gilliam\"@en .\n",
    "        ?movie wdt:P57 ?director .\n",
    "        ?movie rdfs:label ?lbl\n",
    "    }\n",
    "    ''')]"
   ]
  },
  {
   "cell_type": "code",
   "execution_count": 21,
   "metadata": {
    "colab": {
     "base_uri": "https://localhost:8080/"
    },
    "executionInfo": {
     "elapsed": 197,
     "status": "ok",
     "timestamp": 1632684790694,
     "user": {
      "displayName": "Go Friday",
      "photoUrl": "https://lh3.googleusercontent.com/a/default-user=s64",
      "userId": "04257507274310331112"
     },
     "user_tz": -120
    },
    "id": "vAdoRLEJlmi7",
    "outputId": "acf0b04f-bb31-4bff-ed4c-8af8c2bd99cb"
   },
   "outputs": [
    {
     "data": {
      "text/plain": [
       "['Only God Forgives', 'Drive', 'Blade Runner 2049']"
      ]
     },
     "execution_count": 21,
     "metadata": {},
     "output_type": "execute_result"
    }
   ],
   "source": [
    "# neo-noir movies featuring Ryan Gosling\n",
    "[str(s) for s, in graph.query('''\n",
    "    PREFIX ddis: <http://ddis.ch/atai/> \n",
    "    PREFIX wd: <http://www.wikidata.org/entity/> \n",
    "    PREFIX wdt: <http://www.wikidata.org/prop/direct/> \n",
    "    PREFIX schema: <http://schema.org/> \n",
    "    \n",
    "    SELECT ?lbl WHERE {\n",
    "        ?genre rdfs:label \"neo-noir\"@en .\n",
    "        ?actor rdfs:label \"Ryan Gosling\"@en .\n",
    "        ?movie wdt:P136 ?genre .\n",
    "        ?movie wdt:P161 ?actor .\n",
    "        ?movie rdfs:label ?lbl .\n",
    "    }\n",
    "    ''')]"
   ]
  },
  {
   "cell_type": "code",
   "execution_count": 22,
   "metadata": {
    "colab": {
     "base_uri": "https://localhost:8080/"
    },
    "executionInfo": {
     "elapsed": 14838,
     "status": "ok",
     "timestamp": 1632684812283,
     "user": {
      "displayName": "Go Friday",
      "photoUrl": "https://lh3.googleusercontent.com/a/default-user=s64",
      "userId": "04257507274310331112"
     },
     "user_tz": -120
    },
    "id": "YxAm5xKWls39",
    "outputId": "a971c1e8-64de-476c-e185-f2d4cdbfc8bb"
   },
   "outputs": [
    {
     "data": {
      "text/plain": [
       "[('Mamma Mia! Here We Go Again', 224),\n",
       " ('Ali', 121),\n",
       " ('Forrest Gump', 118),\n",
       " ('Terror in the Aisles', 110),\n",
       " ('Iron Man 3', 108),\n",
       " ('The Longest Day', 104),\n",
       " ('Avengers: Endgame', 100),\n",
       " ('Captain America: Civil War', 98),\n",
       " ('Around the World in 80 Days', 93),\n",
       " ('Captain America: The First Avenger', 93)]"
      ]
     },
     "execution_count": 22,
     "metadata": {},
     "output_type": "execute_result"
    }
   ],
   "source": [
    "# movies with largest cast member list\n",
    "[(str(s), int(nc)) for s, nc in graph.query('''\n",
    "    PREFIX ddis: <http://ddis.ch/atai/> \n",
    "    PREFIX wd: <http://www.wikidata.org/entity/> \n",
    "    PREFIX wdt: <http://www.wikidata.org/prop/direct/> \n",
    "    PREFIX schema: <http://schema.org/> \n",
    "    \n",
    "    SELECT ?lbl ?nc WHERE {\n",
    "        SELECT ?movie ?lbl (count(?cast) as ?nc) WHERE {\n",
    "            ?movie wdt:P31 wd:Q11424 .\n",
    "            ?movie rdfs:label ?lbl .\n",
    "            ?movie wdt:P161 ?cast .\n",
    "        }\n",
    "        GROUP BY ?movie\n",
    "        ORDER BY DESC(?nc)\n",
    "        LIMIT 10\n",
    "    }\n",
    "    ''')]"
   ]
  },
  {
   "cell_type": "code",
   "execution_count": 23,
   "metadata": {
    "colab": {
     "base_uri": "https://localhost:8080/"
    },
    "executionInfo": {
     "elapsed": 200,
     "status": "ok",
     "timestamp": 1632684816315,
     "user": {
      "displayName": "Go Friday",
      "photoUrl": "https://lh3.googleusercontent.com/a/default-user=s64",
      "userId": "04257507274310331112"
     },
     "user_tz": -120
    },
    "id": "dgFe28XGmOys",
    "outputId": "b171c6fa-ac30-4432-f913-220cf4168ca4"
   },
   "outputs": [
    {
     "data": {
      "text/plain": [
       "['Matt Berry',\n",
       " 'Kaya Scodelario',\n",
       " 'Kevin Spacey',\n",
       " 'Sam Rockwell',\n",
       " 'Benedict Wong',\n",
       " 'Dominique McElligott',\n",
       " 'Robin Chalk']"
      ]
     },
     "execution_count": 23,
     "metadata": {},
     "output_type": "execute_result"
    }
   ],
   "source": [
    "# cast of Moon\n",
    "[str(s) for s, in graph.query('''\n",
    "    PREFIX ddis: <http://ddis.ch/atai/> \n",
    "    PREFIX wd: <http://www.wikidata.org/entity/> \n",
    "    PREFIX wdt: <http://www.wikidata.org/prop/direct/> \n",
    "    PREFIX schema: <http://schema.org/> \n",
    "    \n",
    "    SELECT ?lbl WHERE {\n",
    "        ?movie rdfs:label \"Moon\"@en .\n",
    "        ?movie wdt:P161 ?cast .\n",
    "        ?cast rdfs:label ?lbl .\n",
    "    }\n",
    "    ''')]"
   ]
  },
  {
   "cell_type": "code",
   "execution_count": 24,
   "metadata": {
    "colab": {
     "base_uri": "https://localhost:8080/"
    },
    "executionInfo": {
     "elapsed": 192,
     "status": "ok",
     "timestamp": 1632684826015,
     "user": {
      "displayName": "Go Friday",
      "photoUrl": "https://lh3.googleusercontent.com/a/default-user=s64",
      "userId": "04257507274310331112"
     },
     "user_tz": -120
    },
    "id": "i_wUs16omTWW",
    "outputId": "67928e4a-e8fc-4823-8061-a372b589af14"
   },
   "outputs": [
    {
     "data": {
      "text/plain": [
       "[('2021-07-14', 'Titane'),\n",
       " ('2019-05-21', 'Parasite'),\n",
       " ('2018-05-13', 'Shoplifters'),\n",
       " ('2017-05-20', 'The Square'),\n",
       " ('2016-10-21', 'I, Daniel Blake'),\n",
       " ('2015-10-22', 'Dheepan'),\n",
       " ('2014-05-16', 'Winter Sleep'),\n",
       " ('2013-05-23', 'Blue Is the Warmest Colour'),\n",
       " ('2012-01-01', 'Amour'),\n",
       " ('2011-05-16', 'The Tree of Life')]"
      ]
     },
     "execution_count": 24,
     "metadata": {},
     "output_type": "execute_result"
    }
   ],
   "source": [
    "# winners of Cannes best movie (Palme d'Or)\n",
    "a = [(str(d), str(s)) for s, d in graph.query(header + '''\n",
    "    SELECT ?lbl ?pubdate WHERE {\n",
    "        ?award rdfs:label \"Palme d'Or\"@en .\n",
    "        ?movie wdt:P166 ?award .\n",
    "        ?movie rdfs:label ?lbl .\n",
    "        ?movie wdt:P577 ?pubdate .\n",
    "        FILTER (?pubdate > \"2011-01-01\"^^xsd:date)\n",
    "    }\n",
    "    ORDER BY DESC(?pubdate)\n",
    "    ''')]\n",
    "\n",
    "# this can be also written as (notice the \";\"):\n",
    "b = [(str(d), str(s)) for s, d in graph.query(header + '''\n",
    "    SELECT ?lbl ?pubdate WHERE {\n",
    "      ?award rdfs:label \"Palme d'Or\"@en.\n",
    "      ?movie wdt:P166 ?award; rdfs:label ?lbl; wdt:P577 ?pubdate.\n",
    "      FILTER(?pubdate > \"2011-01-01\"^^xsd:date)\n",
    "    }\n",
    "    ORDER BY DESC (?pubdate)\n",
    "    ''')]\n",
    "\n",
    "assert (a == b)\n",
    "a"
   ]
  },
  {
   "cell_type": "code",
   "execution_count": null,
   "metadata": {},
   "outputs": [],
   "source": []
  }
 ],
 "metadata": {
  "colab": {
   "authorship_tag": "ABX9TyNC2BzrVbq+mNDgGNziLFpm",
   "collapsed_sections": [],
   "name": "dataset_intro.ipynb",
   "provenance": []
  },
  "kernelspec": {
   "display_name": "Python 3",
   "language": "python",
   "name": "python3"
  },
  "language_info": {
   "codemirror_mode": {
    "name": "ipython",
    "version": 3
   },
   "file_extension": ".py",
   "mimetype": "text/x-python",
   "name": "python",
   "nbconvert_exporter": "python",
   "pygments_lexer": "ipython3",
   "version": "3.11.9"
  }
 },
 "nbformat": 4,
 "nbformat_minor": 4
}
